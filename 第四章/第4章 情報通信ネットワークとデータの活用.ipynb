{
 "cells": [
  {
   "cell_type": "markdown",
   "metadata": {},
   "source": [
    "# 第 4 章 情報通信ネットワークとデータの活用"
   ]
  },
  {
   "cell_type": "markdown",
   "metadata": {},
   "source": [
    "# 情報通信ネットワークの仕組み"
   ]
  },
  {
   "cell_type": "markdown",
   "metadata": {},
   "source": [
    "1. 身近な LAN について考えてみよう\n",
    "\n",
    "　LAN(Local Area Network) には様々な規模のものがある。家庭やコンビニエンスストア，歯科医院のような小規模な LAN，学校や企業の営業所のなどの中規模な LAN，企業や都道府県内の学校ネットワークなどの大規模なLAN である。このような LAN の規模とは何をもとに考えたらよいのだろうか。  \n",
    "　最も身近な家庭内の LAN や学校のコンピュータ室の LAN について考えてみよう。家庭内の LAN は何のために構成されているのだろうか。いくつかの情報機器がインターネットへの接続を必要としているのでそれをまとめるために LAN を構築していることもあれば，家庭内で録画してあるビデオや保存してある写真，ファイルなどを共有できるように LAN を構築していることなどが考えられるだろう。これらの家庭内の LAN については，既に外部への接続（ルータ等）の部分は確保されている場合もあれば，回線を契約して，必要な接続機器を設置してもらっていたり，携帯電話のキャリアや CATV が提供している機器などを導入していたりと様々な形態をとっていることもある。ルータ等の LAN の内部と外部を分ける機器については，どのような役割を果たしているのか，IP アドレスや簡単なプロトコル，ファイアウォールなどとの関係などとともに生徒に理解させることが必要である。学校のコンピュータ室などでは，コンピュータ室の LAN が学校内の LAN の一部である場合や，コンピュータ室の LAN が学校内の LAN から独立している場合の違いにより，その仕組みや活用方法も異なってくることも理解が必要である。  \n",
    "　さて，家庭内の LAN に話を戻そう。家庭内の LAN に接続している機器にはどのような機器があるだろうか。単なる情報機器だけではないだろう。パソコン，タブレット，スマートフォン，プリンタなどの情報機器だけでなく，テレビ，録画用のハードディスクレコーダ，電話，電子レンジなど，調べてみると，さまざまな機器があげられることだろう。またこれらを接続するためにハブや無線のアクセスポイントなどの機器もあるかもしれない。1 つの家庭の LAN に何台の機器が接続されている\n",
    "か。有線で接続されているか，無線で接続されているかを調べる実習などを，実際の生徒に課すことにより，家庭電化製品とインターネットとの関わり，IoT（Internet of Things）への理解を深めることができる。  \n",
    "　同様に学校のコンピュータ室やコンビニエンスストア，レンタル CD ショップ，歯科医院などの小規模な店舗についても考えてみる。学校のコンピュータ室に関しては，接続機器の台数は多いと考えるが，小規模な店舗などでは，家庭と同程度かまたはそれより少し多い機器が接続されているだけである。店舗や学校のコンピュータ室のように数十台までの接続機器が参加している LANをここでは，小規模な LAN と考えてみる。\n",
    " \n",
    " \n",
    "この演習については，紙のワークシートに手書きで描いてもよいが，コンピュータを利用して描いてみること\n",
    "をお勧めする。一般的なワープロソフトウェアを利用してもよいが，draw.io などの専用のソフトウェアを使って\n",
    "みるとよいだろう。\n",
    "\n",
    "\n",
    "　draw.io は，このようなネットワークの図やフローチャートなどの流れ図などを描くことのできる無償のソフト\n",
    "ウェアである。ダウンロードして使うバージョンもあるが，コンピュータへのフリーウェアなどのインストール\n",
    "の危険性を危惧するならば，Web 版の draw.io を使用することをお勧めする。\n",
    "URL : https://www.draw.io/\n",
    "　Web ブラウザまたはアプリケーションを開くと最初に図表 2 のような画面が表示されるので，言語を設定した\n",
    "のちに「新規ファイルを作成する」を選択して，始めることができる。\n",
    "　残念ながらパーツの選択に関して，検索は英語のみしかできないが，楽しみながら家庭内 LAN の図が書けると\n",
    "考える。"
   ]
  },
  {
   "cell_type": "markdown",
   "metadata": {},
   "source": [
    "2. 有線 LAN と無線 LAN の違い\n",
    "\n",
    "　TCP/IP の 4 階層モデルについて説明する。インターネットの通信において，通信する際の規定を定めたものを通信プロト\n",
    "コル ( 略してプロトコルということもある ) という。このプロトコルがあることで，相互に通信を行うことが可能になっている。TCP,IPv4,IPv6,DHCP,HTTP,SMTP,POP など様々なプロトコルがインターネットの通信で用いられるが，これらは，4 層のレイヤに分けて考えることができる。インターネットでアプリケーション同士が通信する際は，上位のアプリケーション層から下位の層に移動することで，通信手順が付加され，ネットワークインタフェース層で物理的な通信を行っていく。  \n",
    "　さて，有線 LAN と無線 LAN の違いとはどこにあるのだろうか。外見上は，有線が Ethernet（イーサネット）（IEEE802.3（アイトリプルイーハチマルニテンサン））に従った規格の通信であり，無線は LAN ケーブルなしで Ethernet の通信技術を実現したものである。物理的な違いであり，実際には通信上のネットワークインタフェースが Ethernet の電気信号であることと電波を利用することの違いである。急速に無線 LAN は普及しており，2020 年の東京オリンピック等の影響もあり，公衆 Wi-Fi スポットの増加など，これからも無線LAN は広がっていく傾向になるだろう。\n",
    "　無線 LAN，現在では IEEE802.11 で規格化され，通信品質や速度の問題に関しては，あまり問題はなくなってきている。無線ルータに書いてある IEEE802.11 の種類と対応については理解しているだろうか。IEEE802.11 について，製品に記載されている規格，周波数帯，最大速度などについて，生徒に調べさせる実習なども行ってもよいだろう。  \n",
    "　さて，無線 LAN には，暗号化の方式も複数存在している。また，公衆無線 LAN の中には，暗号化されていないアクセスポイントも多く存在している。スマートフォンのモバイルデータ通信容量を節約するために，ファーストフードチェーンやコンビニエンスストア，携帯電話キャリア等の設置している公衆無線アクセスポイントを活用している生徒も多い。また，それ以外でも公共交通機関，自治体等が設置しているアクセスポイントも多く見つかる。このような公衆無線 LAN で，どのような暗号化方式が使われているのか，暗号化が使われていないまたは安全性の低い暗号化方式が使われているアクセスポイントではどのような点に注意すればよいのかについて意識させることも大切な情報スキルであると言える。\n",
    "\n",
    "\n",
    "さて，暗号化方式については，OS や通信機器のメーカーによって様々な呼び名を用いているので整理してみる。  \n",
    "大まかに整理すると，次の表のように認証方式と，暗号化アルゴリズムのペアで用いられていることが多い。  \n",
    "\n",
    "||**認証方式<br>（セキュリティの種類）**|**暗号化方式**|**暗号化アルゴリズム**|\n",
    "|---|---|---|---|\n",
    "|1|WEP|WEP|RC4|\n",
    "|2|WPA|TKIP|RC4|\n",
    "|3|WPA2|CCMP|AES|\n",
    "|4|WPA3|SAE|CNSA|\n",
    "\n",
    "表を見てわかるように製品によって，認証方式を示しているのか，暗号化アルゴリズムを示しているのかがわからない部分もあるので，整理しておく必要がある。有線 LAN では物理的なケーブルを用いてデータを転送するのに対して，無線 LAN では，空気中を電波でデータを伝送するために，傍受することが容易であることがデメリットである。  \n",
    "　共通鍵暗号ならば，暗号化，復号の両方で同じキーを使うので，この方式を使う無線 LAN は，キーがわかってしまえば，\n",
    "安全な通信はできないことになる。  \n",
    "　このうち，WEP は古くから使われている方法ではあるが，現在ではフリーウェアを用いて暗号化キーが数秒で解読されてしまうほど，脆弱な暗号であることが知られ，現在ではほとんど使われていない。そのため安全性を高めるためにWPA-TKIP や更にセキュリティを高めた WPA2-CCMP(AES)が用いられていたが，2017年10月16日に「『Wi-FiProtected Access 2 (WPA2)』に存在する脆弱性が複数発見された」(https://www.krackattacks.com) との報道により，全世界は震撼した。これによって，新たな規格である WPA3 が検討されてきている。  \n",
    "　家庭内 LAN では，Wi-Fi は今や欠かせない通信技術だが，このように脆弱な部分や危険性についても理解しておく必要もある。公衆無線 LAN では，いまでも WEP という，脆弱な技術を使用している場所もあるし，そもそも暗号化方式を設定していない無線アクセスポイントも多くある。生徒自身が家庭内で無線アクセスポイントを設定する権限がなかったとしても，自身の PC で Microsoft Windows などの機能で無線ホットスポットを設定した場合，不正浸入の入り口を作ってしまう危険性もある。これにより，内部の情報機器への侵入が可能と言うことも理解させたい。そのために公衆無線 LAN でしてよいことと，問題がある危険性を持つことに分けることが必要になる。また，安全が確保されていない無線 LAN では，VLAN を設定するなどの知識も生徒に理解させることも必要になる。安全性が確保されていない無線 LAN には，できるだけ接続しないようにする。\n",
    "\n",
    "\n",
    "実際の小規模な無線 LAN の構築に関しては，学習 19 で触れる。その際にも無線ルータやアクセスポイント，暗号化方式などの知識が必要になる。また，家庭向けの無線ルータには，ゲストモードなどの外部からオープンで接続できるアクセスポイントを設定できるものもある。これらの接続の際に留意することに関しても，授業の中では，生徒の理解を深めるために議論させることが大切となる。不用意に購入してきたままの設定で使用している家庭や個人も多いことが，トラブルの原因を作っていることもある。理解した上で，きちんと設定ができるように，生徒の知識と技能を高めることが大切である。"
   ]
  },
  {
   "cell_type": "markdown",
   "metadata": {},
   "source": [
    "3. 情報通信ネットワークのプロトコル\n",
    "\n",
    "　情報通信ネットワークのプロトコルに関しては，現行の学習指導要領でも触れられており，多くの教科書でも扱われているが，形式的に覚えさせる内容ではなく，実際に何が行われているのか，それぞれのレイヤが何を意味しているのかについて，いくつかの例を理解させることが必要になる。お互い顔が見えない場所でトランシーバーや糸電話で通信を始めるとき，どのような事前の約束事が必要になるのか，それぞれの約束事やモノが，実際の情報通信ネットワークでは，何に対応しているのか。また，複数人での一斉通信を行う Skype やテレビ電話などを行うときに，お互いにどのようなことに配慮すればよいのか，などを考えることからプロトコルの一部を理解する学習活動が考えられる。"
   ]
  },
  {
   "cell_type": "markdown",
   "metadata": {},
   "source": [
    "＜参考文献・参考サイト＞\n",
    "- 「KRACK Attacks Breaking WPA2」https://www.krackattacks.com/\n",
    "- 「draw.io」https://www.draw.io/"
   ]
  },
  {
   "cell_type": "markdown",
   "metadata": {},
   "source": [
    "# 情報通信ネットワークの構築"
   ]
  },
  {
   "cell_type": "markdown",
   "metadata": {},
   "source": [
    "1. 小規模な LAN の構築と情報機器\n",
    "　家庭内 LAN のような小規模な LAN に必要な機器に関しては，学習 18 でも扱ったが，ここでは，実際に必要な機器を用いて LAN を設計し，構築していくことを考えよう。  \n",
    "　まず，小規模な LAN を設計するには，LAN の利用目的と必要な機器の選定が必要である。家庭内 LAN ならば，接続する機器は既に定まっているだろうし，そこに無線 LAN をもとにした小規模な LAN 構築に必要な機器を考えることから始まる。情報機器がIEEE802.11 のどの規格に対応しているのか，インターネット接続に関して，どのようなプロトコルが必要なのか，LAN を分割する必要があるのか。\n",
    "無線 LAN のアクセスポイントをいくつ設置すればよいのか。ルータとアクセスポイントやハブとの接続の環境はあるのか，などの様々な問題が考えられる。細かい仕様に関しては，調べることが可能であるので，物理的な接続に関して家庭内LAN の設計を考えるとよいだろう。また，各機器の設定に関しては，「(2) 情報機器を LAN に参加させる方法」で考えていこう。LAN の設計に関しては，学習 18 で紹介した draw.io（アプリケーションまたは Web アプリ (https://www.draw.io/)）を用いて，LAN の構成図を書いて考えるとよい。"
   ]
  },
  {
   "cell_type": "markdown",
   "metadata": {},
   "source": [
    "2. 情報機器を LAN に参加させる方法\n",
    "　自分で構築した小規模な無線 LAN に機器をどのようにしたら参加させることができるのだろうか。これは，既にある無線 LAN にスマートフォンなどを接続した経験がある生徒ならば容易に理解できるだろう。家庭内などの接続する人が特定できている場所での接続に関しても，外部からの不正な侵入も考慮し，SSID を公開しないことや暗号化キーを分かりづらいものにしておくこと，暗号化方式を容易に解読されないものにしておくことが必要である。そのため，SSID，暗号化キー，暗号化方式などの情報が無線 LAN に参加するのに必要になる。家庭内の情報機器によっては，IP アドレス等を設定することが難しい機器などもあることから，DHCP の IP アドレスの配布や WPS などの簡易的に接続する方式などを利用することも多くあるだろう。  \n",
    "　しかし，これが学校や企業内 LAN，さらには公衆無線 LAN に自分の情報機器を参加させる場合には状況が異なってくる。特定多数あるいは不特定多数の人が無線 LAN を利用するからである。そこでは，LAN への参加の容易さとセキュリティとのトレードオフがある。  \n",
    "　学校や企業内 LAN に自分の機器を参加させる機会は少ないかもしれないが，デジタル教科書などの活用が始まるこれからの学校では，学校内に無線 LAN の環境を整備し，生徒個々人の情報機器を LAN に参加させる必要が生じることが考えられる。一方で，学校の生徒は容易に接続できるが，外部の人に容易に接続できないような工夫が必要である。また，コンビニエンスストアやファーストフードチェーン，公共交通機関，地方自治体等が提供する公衆無線 LAN は接続の容易さと引き替えにセキュリティに関しては，低く設定されている場合もある。これらの公衆無線 LAN に関しては，大手の通信キャリアが回線を提供している場合なども多いが，その利用やセキュリティに関しては利用者個人の責任となる場合もあるので利用には注意が必要である。学習 18 の演習では，このような公衆無線 LAN について，調べる実習を用意している。\n"
   ]
  },
  {
   "cell_type": "markdown",
   "metadata": {},
   "source": [
    "3. 無線 LAN の構築に関するセキュリティ\n",
    "\n",
    "　LAN を構築する際に必要なセキュリティについて理解できる。  \n",
    "　前節では，物理的な LAN 接続について考えたが，本節では設定について考えてみよう。まず，無線ルータや無線のアクセスポイントをどのような設定にしているのか知ることが必要である。  \n",
    "　無線の接続に関しては，IEEE802.11 の規格，暗号化方式，SSID の設定，DHCP の設定，フィルタの設定など，様々な設定内容が用意されている。これらの内容を理解し，適切な設定ができることが大切である。\n",
    "　無線ルータを購入した設定のままで接続し，利用している家庭について安全面で不安な部分が多く考えられる。それに対して，ある程度の設定ができるスキルを身に付けることが，無線 LAN が主流となりつつある現在でインターネットを活用する生徒に必要であろう。  \n",
    "　無線ルータや無線アクセスポイントの暗号化方式に関しても学習 18 で説明したように脆弱性の見つかったものなども多くある。どのような暗号化方式を利用すればよいのか。SSID は外部から参照可能なものにした方がよいのか，見えないようにすべきなのか，その危険性についてなど話し合いをすることも必要である。暗号化キーの管理に関してもパスワードの管理と同様にわかりやすいものにすれば，悪意のある者からも解読されやすくなり，セキュリティが低下する，というトレードオフの部分をどのように解消するのかも問題となる。また，情報機器に IP アドレスをリースする DHCP(Dynamic Host Configuration Protocol) に関しても，設定する方がよいのかどうかで議論の分かれるところである。家庭内と学校や企業内では，セキュリティの基準が異なるので，設定が異なるものになるのは当然のことである。  \n",
    "　これらの演習に関しては，先に挙げたようなルータの設定画面などを見ながら，実際に設定してみると理解が深まるだろう。\n",
    "\n",
    "\n",
    "　自宅で友人や外部の人たちに Wi-Fi 環境を提供したい場合などにどのように対応できるかとの問題である。このような場合は少ないかもしれないが，自分がカフェなどの店舗のオーナーであったとき，どのように業務用の無線 LAN とお客様へのサービスとしての無線 LAN 環境についてセキュリティを保ったまま維持できるか，という問題と同様である。このような仮想の設定などで対応を考えることで，実際の LAN の構築に対応するスキルを身に付けることができる。インターネット回線が 2 つある場合，ネットワークをどのように分割すればよいのか。様々な方法を考えることが可能である。"
   ]
  },
  {
   "cell_type": "markdown",
   "metadata": {},
   "source": [
    "4. ネットワークのトラブル対応\n",
    "\n",
    "LAN においては，様々なトラブルが生じることがある。  \n",
    "\n",
    "- インターネットに接続できない。\n",
    "- 無線 LAN のアクセスポイントに接続できない。\n",
    "- 電子メールを送信できない。\n",
    "- 必要なアプリをダウンロードできない。\n",
    "- 家庭内の HDD やサーバに接続できない。\n",
    "- 家庭内のネットワークプリンタに出力できない。\n",
    "\n",
    "など，様々な問題が起こることがある。\n",
    "\n",
    "\n",
    "　これらの問題には，どのような対応をすればよいだろうか。すぐにインターネットの回線業者に電話し，修理\n",
    "を依頼するのだろうか。また，ルータや PC を新規に購入するのだろうか。\n",
    "　まずは，トラブルの原因を特定し，それが自分で復旧できる内容ならば対処し，自分で対応できないものであ\n",
    "れば，業者に修理を依頼する，または新規に購入するという判断になるだろう。それでは，どのようにトラブル\n",
    "の原因を特定すればよいのだろうか。\n",
    "　例えば，ネットワークに接続されたプリンタに出力できない場合には，以下のような問題が考えられる。\n",
    " \n",
    "1. プリンタの電源が入っていない。\n",
    "2. プリンタが紙切れ，インク切れになっている。\n",
    "3. プリンタにネットワークの設定がされていない。\n",
    "4. プリンタにネットワークの接続がされていない。\n",
    "5. プリンタに接続しているネットワークの機器に不具合がある。\n",
    "6. 印刷の命令を送っていない。\n",
    "7. 印刷するためのアプリが適正に設定されていない。\n",
    "8. 自分の情報機器が LAN に接続されていない。\n",
    "9. 自分の情報機器の LAN の接続の設定が誤っている。\n",
    "10. 自分の情報機器のプリンタの設定がされていない，または誤っている。\n",
    "\n",
    "　などである。次にこれらを点検する順序に並べてみる。自分の情報機器からプリンタへの順序でも，自分が点\n",
    "検しやすい機器から点検していくという順序でもよいと考える。大切なのは，それぞれの問題の点検項目で何が\n",
    "特定できるかと言うことである。例えば，④の問題を点検するには，プリンタの LAN ポートにケーブルが接続されているのか，または無線 LAN であれば，適当な\n",
    "アクセスポイントに接続できているかを点検すれば\n",
    "よいだろう。それによって，プリンタと LAN との\n",
    "物理的な接続に障害があるのかが特定できる。有線\n",
    "の場合，プリンタ側の LAN 接続を示す LED がつい\n",
    "ているかどうかも目安となる。⑤とも関係している\n",
    "が，プリンタに確かにケーブルは接続されているが，\n",
    "LED がついていないときなどは，ケーブルを交換し\n",
    "てみる，同じ HUB のプリンタが接続されていた同\n",
    "じポートに別な情報機器を接続して試してみる，同\n",
    "じ HUB の別なポートにプリンタを接続してみる，\n",
    "などをすることで，プリンタ側の LAN 接続装置の異常や HUB のポートの異常，ケーブルの不良などを調べるこ\n",
    "ともできる。つまり，どの部分を調べるかによって，障害の切り分けが可能なのである。これらを効率よく行い，\n",
    "障害を特定していくためには，どのような順序で点検すればよいかを考えればよいのである。また，ケーブルの\n",
    "不良ならば別なケーブルに交換すればよいが，LAN 接続装置の故障ということになれば，プリンタを修理に出すか，\n",
    "新規に購入するという対応になる。\n",
    "　また，PC やスマートフォンからプリンタに接続している場合，そのプリンタが PC などの LAN に接続されている機器\n",
    "などから，見ることができるかどうか調べる技術に関しても学んでおきたい。プリンタドライバなどから，LAN 上のプリ\n",
    "ンタの状況をどこまで監視できるのか，調べてみることもこの演習の応用として考えることができる。\n",
    "\n",
    "\n",
    "情報通信ネットワークにおいて，LAN 上のトラブルの障害の切り分けは，主に利用者が行うとよいだろう。ト\n",
    "ラブルへの対応を外部へ依頼するか，自分で対応できるかを適正に切り分ける能力を育成することによって，外\n",
    "部に修理等を依頼する際にも適切な説明ができるような力を育成することができると考えている。"
   ]
  },
  {
   "cell_type": "markdown",
   "metadata": {},
   "source": [
    "# 情報システムが提供するサービス"
   ]
  },
  {
   "cell_type": "markdown",
   "metadata": {},
   "source": [
    "1. 情報システムが提供するサービス\n",
    "\n",
    "　私たちの生活や様々な産業の中で，様々な情報システムが活用され利便性が向上している。オンラインショップのシステムや電子決済システムなどにより便利に買い物ができるようになっている。情報システムが提供するシステムは行政，医療，教育など幅広く構築され，活用されている。主な情報システムには，図表１のようなものがある。\n",
    "　これらの情報システムは，情報通信ネットワークにより様々なデータが送受信されて運用されている。情報システムにより蓄積された膨大な量のデータ（ビッグデータ）を課題解決に活用することが近年重要視されている。個人情報を含むデータや企業活動の根幹にかかわるデータは，漏洩することがないよう情報セキュリティを確保する必要がある。一方，公益性が高いデータについてはオープンデータとして公開される動きも広がっている。\n",
    " \n",
    "|**分野**|**情報システム**|**活用の例**|\n",
    "|---|---|---|\n",
    "|商業|POS システム（Point Of Sales System）|店舗経営の効率化・売上分析・在庫管理|\n",
    "|金融|電子決済システム|鉄道運賃支払，店頭レジでの支払い|\n",
    "|通信|SNS（ソーシャル・ネットワーキング・サービス）|利用者同士の交流，情報発信|\n",
    "|交通|高度道路交通システム（ITS）|渋滞緩和，バスの走行位置提供|\n",
    "|気象|緊急地震速報システム|早期避難，工場の機械制御|\n",
    "|教育|e ラーニングシステム|教材提供，学習履歴に基づく指導|\n",
    "|行政|住民基本台帳システム|行政手続きの簡略化，住民票写し広域交付|\n"
   ]
  },
  {
   "cell_type": "markdown",
   "metadata": {},
   "source": [
    "2. オープンデータの重要性とその活用\n",
    "\n",
    "　国や地方公共団体及び事業者が保有するデータには，誰もがインターネットを通じて得られるよう公開されるものが増えつつある。このうち，次のような項目に該当する形で公開されたデータはオープンデータと呼ばれている。\n",
    " \n",
    "- オープンデータの定義  \n",
    "  1. 営利目的，非営利目的を問わず二次利用可能なルールが適用されたもの  \n",
    "  2. 機械判読に適したもの  \n",
    "  3. 無償で利用できるもの   \n",
    "出典：「オープンデータ基本指針」（総務省）  \n",
    "   （https://www.kantei.go.jp/jp/singi/it2/kettei/pdf/20170530/kihonsisin.pdf）\n",
    "   \n",
    "このうち「機械判読に適したもの」として，「コンピュータプログラムが自動的にデータを加工，編集できること」ができるようなものも含め，オープンデータを普及させる取組が官民をあげて推進されている（官民データ活用推進基本法（平成 28 年制定・施行））。このようなオープンデータが公開されることにより，次のような効果が期待されている。\n",
    "\n",
    "- オープンデータとしてデータが公開される意義・効果\n",
    "  1. 国民参加・官民共同の推進を通じた諸課題の解決，経済活性化<br>多様なサービスの提供・公共サービスの提供・改善，諸問題の解決への貢献  \n",
    "  2. 行政の高度化・効率化<br>情報を根拠とした政策・施策の企画・立案，効果的な行政の推進  \n",
    "  3. 透明性・信頼の向上<br>政策等に関する十分な分析・判断が可能，行政の透明性・信頼性の向上   \n",
    "「オープンデータ基本指針」（総務省）  \n",
    "（https://www.kantei.go.jp/jp/singi/it2/kettei/pdf/20170530/kihonsisin.pdf）を加工して作成\n",
    "\n"
   ]
  },
  {
   "cell_type": "markdown",
   "metadata": {},
   "source": [
    "3. データの蓄積・管理・提供する方法\n",
    "\n",
    "　データを活用するためには，容易にデータを処理する必要がある。特に災害発生時のように緊急を要する場合には，迅速性が求められる。紙の資料を読み取った画像だけの PDF ファイルを活用するには，改めてデータを入力することが必要となる。また，表計算ソフトウェアに入力されたデータであっても，印刷するための書式では，データを活用するために整形することが必要となる。一方，プログラムを用いてデータを二次利用する場合に，機械判読が可能となっていれば，さまざまなデータを組み合わせて新たな情報を生み出すことができる。  \n",
    "　オープンデータが十分に活用されるよう，総務省による研修資料では，図表 2 のようにファイル形式を掲載し，\n",
    "利用しやすいデータの公開を推進している。\n",
    "\n",
    "|**ファイルの種類**|**ファイル形式**|**拡張子**|\n",
    "|---|---|---|\n",
    "|統計情報，施設一覧など表形式となっている情報，予算・決算情報|表形式|Excel 形式<br>CSV 形式など|\n",
    "|報告書など，文章による情報や，図形，画像等が混在している情報|文書形式|PDF 形式<br>Word 形式など|\n",
    "|主に地図と組合せて利用する情報で，線や面などのデータを含むもの|地理空間情報形式|※ shp 形式など|\n",
    "\n",
    "※ shp 形式＝シェープファイル形式（図形情報や属性情報を持つ複数のファイルから構成される）\n"
   ]
  },
  {
   "cell_type": "markdown",
   "metadata": {},
   "source": [
    "4. 国や地方公共団体が提供するオープンデータ\n",
    "\n",
    "　国や地方公共団体では，様々なデータをオープンデータとして公開している。国により，人口や世帯，経済，産業，安全，環境，教育など省庁が調査したデータが公開されている。また，気象庁が観測した気象データ，国立環境研究所による大気汚染や騒音などの観測データなど，専門的に観測しているデータも公開されている。  \n",
    "　地方公共団体では，取り組みにばらつきはあるが，市町村の人口だけでなく，町丁字ごとの人口や避難場所，地方公共団体が設置した AED の設置場所，フリースポットの場所，市内を走るバスに関するデータなど生活に密着したデータを公開している地方公共団体もある。"
   ]
  },
  {
   "cell_type": "markdown",
   "metadata": {},
   "source": [
    "5. GIS を用いたデータの可視化と問題発見\n",
    "\n",
    "　データの活用方法として，最大値，最小値，中央値，四分位数，最頻値，平均値，分散，標準偏差といった基本統計量を求め，各統計指標の状況を整理したり，相関分析や回帰分析等を通して問題発見や問題解決に役立てることが考えられる。そのような統計的な分析だけでなく，データを可視化することにより，問題発見や問題解決ができる。  \n",
    "　ここでは，地理情報データを GIS（Geographic Information System）を用いて可視化することを取り上げる。GISには，無料の MANDARA10，Quantum GIS や有料の ArcGIS などがあり，防災等の地域分析が可能となる機能が提供されている。ここでは，政府統計の総合窓口（e-Stat）の統計 GIS を用いて，データの可視化と問題発見を行う。  \n",
    "\n",
    "オープンデータである政府統計ポータルサイトから町丁・字等別人口密度のデータと埼玉県オープンデータポータルサイトから川越市の AED 設置場所データを使って，2 つのデータを重ねることで問題を発見してみましょう。\n",
    "\n",
    "|||\n",
    "|---|---|\n",
    "|アカウントの作成 |・地図で見る統計（jSTAT MAP）のアカウントを作成する。|\n",
    "|データの検索・収集<br>データの整形・加工|・川越市の AED 設置場所データを探しダウンロードする。<br>・jSTAT MAP の形式に合わせてデータを整形・加工する。|\n",
    "|データの読み込み<br>地図の描画|・jSTAT MAP を起動して川越市の AED 設置場所を描画する。<br>・同様に川越市の町丁・字等別人口密度を描画する。|\n",
    "|地図の分析|・描画された地図から，人口に対して AED が少ない場所を見つける。|"
   ]
  },
  {
   "cell_type": "markdown",
   "metadata": {},
   "source": [
    "#### ［手順 1］アカウントの作成\n",
    "　地図で見る統計（jSTAT MAP）は，ログインしなくてもある程度の機能は使える。しかし，今回は，オープンデータから川越市の公共 AED 設置場所データを jSTAT MAP にインポートして表示する。そのためには，アカウントを作成してログインする必要がある（図表 4）。  \n",
    "　アカウントを作成するには，はじめにメールアドレスを仮登録する。仮登録の直後に，本登録用の案内が書か\n",
    "れたメールが自動返送されるので，メールの指示に従って操作することによりアカウントが作成できる。\n",
    "\n",
    "出典：政府統計の総合窓口 (e-Stat)（https://www.e-stat.go.jp/）"
   ]
  },
  {
   "cell_type": "markdown",
   "metadata": {},
   "source": [
    "#### ［手順 2］データ検索・収集，データの整形・加工\n",
    "　川越市の AED 設置場所データを埼玉県オープンデータポータルサイト（https://opendata.pref.saitama.lg.jp） からダウンロードする。ここでは，緯度・経度が掲載された CSV データを取得している。（各サイトによっては取得方法が異なるため手順は省略する）  \n",
    "　次に CSV データを jSTAT MAP に読み込めるよう，Excel を使って整形する。CSV データを開く際に文字コードの影響により，文字化けする場合がある。この場合には，メニューバーで［データ］に切り替え，「外部データの取り込み」の［テキストファイル］のボタンを使って開くことにより，文字コードを指定して開くことができる（図表 5，Excel 2016 の場合）。CSV データを開いたら，最初の列には設置施設名，末尾の 2 列には経度・緯度となるように，列の順序を入れ替える（図\n",
    "表 6）。図表 6 では，不要な列を非表示にしているが，削除してもよい。デー タの整形が終わったら，保存する。\n",
    "\n",
    "出典：【 川越市 】 AED 設置場所（公共施設）， https://opendata.pref.saitama.lg.jp/data/dataset/aed  \n",
    "川越市保健医療部保健医療推進課作成 CCBY2.1jp https://creativecommons.org/licenses/by/2.1/jp/"
   ]
  },
  {
   "cell_type": "markdown",
   "metadata": {},
   "source": [
    "#### ［手順 3］データの読み込み，地図の描画\n",
    "　jSTAT MAP を起動し，川越市の AED 設置場所データと町丁・字等別人口密度を組み合わせた地図を作成する。ここでは，AED 設置場所データを先に描画する。  \n",
    "　メニューの［統計地図作成］を選択するとサブメニューが表示される。その中から［プロット作成］を選択すると，プロットの作成方法を選択する画面が表示される。手順 2 で整形した CSV データを用いるので，［緯度経度付きファイル］を選択\n",
    "する。図表 7 のファイルを選択するウインドウが表示されるので，［参照］ボタンを押し，手順 2 で整形したデータを選択して，アップロードする。正しくデータを読み込めた件数が表示されるので，必要に応じてグループ名やアイコンを変更して［登録する］ボタンをクリックする。以上で AED 設置場所が地図上に表示される。  \n",
    "　次に，川越市の小地域（町丁・字等別）の人口密度を描画する。人口密度のデータは，政府統計の総合窓口（e-Stat）で公開されているデータを用いる。メニューの［統計地図作成］を選択し，サブメニューの中から［統計グラフ作成］を選択する。図表 8 の左図が表示されるので，調査名を［国勢調査］，年を［2015 年］（最新のもの），集計単位を［小地域（町丁・字等別）］，統計表を［人口性比，密度］，指標を［密度（人口総数）］と順に選択する。表示する指標である［密度（人口総数）］を選択できたら，［指標選択］ボタンをクリックする。  \n",
    "　図表 8 右図に切り替わるので，小計単位を［小地域］，集計範囲を［行政界選択］とすると，都道府県，市区町村の順に選択できる。ここでは，埼玉県川越市を選択する。目的の行政界を選択したら，［集計開始］ボタンをクリックする。\n",
    "\n",
    "出典：政府統計の総合窓口 (e-Stat)（https://www.e-stat.go.jp/）  \n",
    "\n",
    "　必要に応じて，人口密度の刻み幅を変更したり，凡例の表示を修正することにより，図表 9 のような地図が描画される。"
   ]
  },
  {
   "cell_type": "markdown",
   "metadata": {},
   "source": [
    "#### ［手順 4］地図の分析\n",
    "　描画された図から，人口密度が高いにも関わらず AED の設置が少ない場所を見つける。"
   ]
  },
  {
   "cell_type": "markdown",
   "metadata": {},
   "source": [
    "＜参考文献・参考サイト＞\n",
    "- 「ICT 利活用の促進　オープンデータ戦略の推進」総務省，\n",
    "　http://www.soumu.go.jp/menu_seisaku/ictseisaku/ictriyou/opendata/\n",
    "- 「オープンデータ化支援研修の教材〜第２部オープンデータを公開するための手順」総務省 ,\n",
    "https://www.opendata-training.org/wp-content/uploads/material/2_support/2_new/shien_opendata_tejun.pdf\n",
    "- 「政府統計の総合窓口（e-Stat）」https://www.e-stat.go.jp/\n",
    "- 「埼玉県オープンデータ」埼玉県，https://opendata.pref.saitama.lg.jp/\n",
    "- 「オープンデータ基本指針」総務省，\n",
    "　https://www.kantei.go.jp/jp/singi/it2/kettei/pdf/20170530/kihonsisin.pdf\n"
   ]
  },
  {
   "cell_type": "markdown",
   "metadata": {},
   "source": [
    "# さまざまな形式のデータとその表現形式"
   ]
  },
  {
   "cell_type": "markdown",
   "metadata": {},
   "source": [
    "1. リレーショナルデータベース\n",
    "\n",
    "　データの蓄積や検索が容易にできるよう，一定の形式でデータを整理してデータベースが用いられている。データベースのうち，特にリレーショナルデータベース（関係データベース）が広く用いられている。リレーショナルデータベースは，表形式で表現されたテーブルというデータの集合として管理する。テーブルの列には，フィールドといわれる「書籍名」や「作者名」という項目を割り当てる。１件分のデータはレコードといわれる１つの行で表す。また，複数のテーブルを関連付けて，結合して利用することもできる。リレーショナルデータベースには，有料のものの他に MySQL，PostgreSQL などの無料で使えるものがある。リレーショナルデータベースを操作するには，SQL(Structured Query Language) という言語が用いられる。リレーショナルデータベースについての例を図表１に示す。\n",
    "\n",
    "リレーショナルデータベースでは，「選択」・「射影」・「結合」という関係演算を用いて処理することが多い。選択はテーブルから条件を満たすレコードを抽出する操作である。図表１では，書籍テーブルから作者 ID が 1001であるレコードを選択した場合を示している。射影はテーブルから一部のフィールドを取り出す操作である。図表 1 では，書籍テーブルから「書籍名」のフィールドを抽出する例を示している。結合は複数のテーブルを１つの表にする操作である。  \n",
    "　テーブルに対して，データを追加したり，レコードを削除したりすることもできる。これらの操作をする SQLも演習１に示す。  \n",
    "　例に示したデータベースは，書籍と作者の２つのテーブルで構成されている。１つのテーブルにまとめてデータを管理することもできるが，すべてのレコードに同じ作者名が含まれることになる。テーブルを分けることにより，データが冗長になってしまうことを避けることができる。また，作者名の値を変更しなければならなくなった場合に作者名テーブルを更新するだけでよく，書籍テーブルを変更することなく済ませることができ変更漏れも生じない。このようなテーブル設計の工夫を，テーブルの正規化という。"
   ]
  },
  {
   "cell_type": "markdown",
   "metadata": {},
   "source": [
    "2. データのさまざまな表現形式\n",
    "\n",
    "　つながりを表すデータなど，表形式以外の方法でデータを表現した方が扱いやすい場合がある。そのようなデータを表現する方法を理解する必要がある。  \n",
    "　SNS での人のつながりや鉄道の路線などのような関係性について図を使って表現する。図表 2 では，a から fまでの 6 人の人のつながりを表している。a から f までの人を表す丸を頂点（バーテックスまたはノード），人と人とのつながりを表す線分を辺（エッジ）といい，頂点と辺で構成された図を離散グラフという。図表 2 では特に方向性を考えない無むこう向グラフになっている。人のつながりでの片想いの関係や一方通行の道路のような，方向性を考慮した有向グラフを考えることもできる。\n",
    "\n",
    "$$\n",
    "  \\left(\n",
    "    \\begin{array}{ccc}\n",
    "      0 & 1 & 1 & 1 & 0 & 0 \\\\\n",
    "      1 & 0 & 0 & 1 & 0 & 0 \\\\\n",
    "      1 & 0 & 0 & 1 & 0 & 0 \\\\\n",
    "      1 & 1 & 1 & 0 & 1 & 0 \\\\\n",
    "      0 & 0 & 0 & 1 & 0 & 1 \\\\\n",
    "      0 & 0 & 0 & 0 & 1 & 0 \n",
    "    \\end{array}\n",
    "  \\right)\n",
    "$$\n",
    "\n",
    "　図表 2 の離散グラフをコンピュータ上で表現するには，コンピュータで扱うことができるデータ形式で表現する必要がある。一つの例として，2 次元配列を用いて表現することができる。頂点どうしがつながっていれば 1，つながっていなければ 0 として表現する。このように表現する方法を隣接行列という。隣接行列を用いて表現する場合，辺の本数が少ない場合には，隣接行列の要素の多くが 0 である疎行列になってしまう。  \n",
    "　そこで，接続している頂点のリストを頂点ごとにデータとして，次のような隣接リストとして表現する方法が考えられる。頂点 a には頂点 b と c が接続していることを示し，頂点 b 以下も同様である。\n",
    "\n",
    "$$ \\{a : [ b,c,d ] , b : [ a , d ] , c : [ a , d ] , d : [ a , b , c , e ] , e : [ d , f ] , f : [ e ] \\} $$\n",
    "\n",
    "隣接リストでは，注目している頂点という項目と，接続している頂点のリストという値との組として表現されている。このように，項目（キー）と値（バリュー）との組により表現されるデータの形式をキー・バリュー形式という。  \n",
    "　隣接リストの形式では，疎行列のような不要なデータについては解消されるが，頂点同士が接続しているかどうかを調べるには隣接リストをたどって調べる必要が生じる。離散グラフをコンピュータ上で扱う際には，離散グラフを用いてどのような問題を解決するかを考えて表現することが求められる。"
   ]
  },
  {
   "cell_type": "markdown",
   "metadata": {},
   "source": [
    "3. Web API によるデータの取得\n",
    "\n",
    "　インターネット上のシステムによりさまざまなデータが提供されている。前項ではサイト上から csv 形式のデータをダウンロードして問題解決に用いたが，プログラムでデータを扱えるよう Web API（Application Programming Interface）によりデータを提供しているサイトが多くある。Web API では，XML 形式や JSON 形式でデータが提供されている場合が多い。XML 形式での属性と要素の組合せ，JSON 形式でのキーと値の組合せにより，項目と値をセットにして扱うことができる。  \n",
    "　ここで，実際に Web API を利用してデータを取得する。Web API を利用するには，一般にユーザ登録が必要である。  \n",
    "　ここでは例として，YAHOO!JAPAN デベロッパーネットワークに登録し，気象情報 API を使って，JSON 形式と XML 形式のデータを取得する。\n",
    "　YAHOO!JAPAN のユーザ登録をし，ログインしてクライアント ID の申請を行う。API を使えるようにするため，「新しいアプリケーションを開発」の登録を https://e.developer.yahoo.co.jp/register にアクセスして行う。クライアント ID を取得できたら，ブラウザから Web API を利用して 60 分後までの降水量の予測値のデータをXML 形式と JSON 形式で取得する。ここでは，取得できるデータ形式の一部を図表 3 に示す。「クライアント ID」と書かれた箇所には，先に登録したクライアント ID を用いる。\n",
    "```\n",
    "　データを取得する URL（入力時には改行しない）\n",
    "　https://map.yahooapis.jp/weather/V1/place?appid={ クライアント ID}\n",
    "　&coordinates= 経度（東経）, 緯度（北緯）&output={json または xml}\n",
    "```\n",
    "\n",
    "```\n",
    "【XML形式】\n",
    "<Wheather>\n",
    "  <Type>observation</Type>\n",
    "  <Date>201901061950</Date>\n",
    "  <Rainfall>0.00</Rainfall>\n",
    "</Wheather>\n",
    "```\n",
    "\n",
    "```\n",
    "【JSON形式のデータ】\n",
    "\"Weather\":\n",
    "{\n",
    "  \"Type\": \"observation\",\n",
    "  \"Date\": \"201901061950\",\n",
    "  \"Rainfall\": 0.00\n",
    "}\n",
    "```\n",
    "\n",
    "XML 形式では，タグがキーになっており，タグ間にバリューがはさまれている。JSON 形式では，コロンの前が項目，コロンの後ろが値になっている。若干の値の違いはあるが，いずれも項目と値をセットにしてデータが表現されている。API については，サービスが停止したり，該当の URL が変更になったり，問い合わせの書式が変わったりする場合がある。API を使ってデータを取得する場合は，そのサービスが提供されているかを確認するとともに，最新の URL と問い合わせの書式を調べて行う必要がある。"
   ]
  },
  {
   "cell_type": "markdown",
   "metadata": {},
   "source": [
    "4. キー・バリュー形式のデータの処理・蓄積  \n",
    "\n",
    "　キー・バリュー形式のデータを扱うことができるプログラミング言語もある。プログラミング言語によっては，連想配列・ハッシュ・辞書などと呼ばれている。ここでは，Python の辞書というデータ構造を用いて連絡先のリストを作ることを題材として，データを追加し，表示するプログラムを扱う。  \n",
    "　携帯電話の普及に伴い，固定電話を自宅に有しない人もいる。また，一人で複数のメールアドレスを使っている人も珍しくない。次にあげる 3 名の連絡先をキー・バリュー形式で members という配列に代入し，表示するプログラムを例示する。\n",
    "\n",
    "```\n",
    "▲登録するデータ\n",
    "　　A 田さん　　自宅電話　homephone : 0**-***-1111\n",
    "　　　　　　　　携帯メール mobilemail : ata@***.ne.jp\n",
    "　　B 川さん　　携帯電話 mobilephone : 080-****-2222\n",
    "　　C 山さん　　携帯電話 mobilephone : 090-****-3333\n",
    "　　　　　　　　PC メール　email : cyama@***.com\n",
    "```"
   ]
  },
  {
   "cell_type": "code",
   "execution_count": 2,
   "metadata": {},
   "outputs": [
    {
     "name": "stdout",
     "output_type": "stream",
     "text": [
      "name : A 田 \n",
      "homephone : 0**-***-1111\n",
      "mobilemail : ata@***.ne.jp\n",
      "\n",
      "name : B 川 \n",
      "mobilephone : 0**-***-2222\n",
      "\n",
      "name : C 山 \n",
      "mobilephone : 090-****-3333\n",
      "email : cyama@***.com\n",
      "\n"
     ]
    }
   ],
   "source": [
    "# 初めから members に登録する場合\n",
    "members = [ { \"name\" : \"A 田 \" ,\n",
    " \"homephone\" : \"0**-***-1111\" ,\n",
    " \"mobilemail\" : \"ata@***.ne.jp\"\n",
    " } ,\n",
    " { \"name\" : \"B 川 \" ,\n",
    " \"mobilephone\" : \"0**-***-2222\"\n",
    " }\n",
    " ]\n",
    "# 後から members に追加する場合\n",
    "members.append( { \"name\" : \"C 山 \" ,\n",
    " \"mobilephone\" : \"090-****-3333\" ,\n",
    " \"email\" : \"cyama@***.com\"\n",
    " } )\n",
    "# すべてのデータを表示する\n",
    "for member in members:\n",
    " for key , value in member.items():\n",
    "   print( key + ' : ' + value )\n",
    " print()"
   ]
  },
  {
   "cell_type": "markdown",
   "metadata": {},
   "source": [
    "　（1）でリレーショナルデータベースを扱ったが，Amazon Dynamo DB やオープンソースである Hibari といったキー・バリュー形式に対応したデータベースもある。また，他のデータ形式に対応したデータベースもあり，これらのデータベースを総称して NoSQL と呼ばれている。NoSQL はビッグデータの活用と関連して注目されている。"
   ]
  },
  {
   "cell_type": "markdown",
   "metadata": {},
   "source": [
    "5. キー・バリュー形式のデータを用いた問題発見\n",
    "\n",
    "　ここで，キー・バリュー形式で取得できたデータを用いて，問題発見に役立てる。SNS の開発者登録が必要ではあるが，SNS でつながりがあるユーザーのデータを Web API を利用して取得することができる。ここでは，Web API を利用して，JSON 形式のデータを取得できたものとして演習を行う。  \n",
    "　下の図表 5 で自分をａとする。自分の 2 人の友人 b，c が共通につながっている人は，自分の友人である可能性が高い。このような人を発見して，おすすめのユーザーとして提案する。\n",
    "\n",
    "上の図表 5 で，自分ａのつながりがあるユーザーは，次のような隣接リストで表現できる。\n",
    "\n",
    "```\n",
    "自分　{ “ids” : [ “b” , “c” , “d” , “f” ] }\n",
    "友人ｂ，ｃについても同様に隣接リストはそれぞれ\n",
    "友人 b　{ “ids” : [ “a” , “c” , “d” , “e” , “g” ] }\n",
    "友人 c　{ “ids” : [ “a” , “b” , “d” , “e” , “h” ] }\n",
    "```\n",
    "\n",
    "　とである。SNS での隣接リストは，Web API を利用すると同様のデータが JSON 形式で取得できる。  \n",
    "　取得したデータから，次のように提案する。\n",
    " \n",
    "1. 友人 b，ｃの共通の友人を見つける。共通の友人は，[ “a” , “d” , “e” ] である。\n",
    "2. ここから，自分自身である a と，既に友人となっているｄを除く。\n",
    "3. その結果である [ “e” ] を共通の友人として提案する。\n",
    "\n",
    "　プログラムを使って，同様の処理を行うことができる。"
   ]
  },
  {
   "cell_type": "markdown",
   "metadata": {},
   "source": [
    "＜参考文献・参考サイト＞\n",
    "- 「Yahoo!JAPAN デベロッパーネットワーク」ヤフー（株），https://developer.yahoo.co.jp/"
   ]
  },
  {
   "cell_type": "markdown",
   "metadata": {},
   "source": [
    "# 量的データの分析"
   ]
  },
  {
   "cell_type": "markdown",
   "metadata": {},
   "source": [
    "1. 量的データと質的データ\n",
    "\n",
    "　例えば，自分が住んでいる地域の夏の気象の傾向について調べるため，気象庁のウェブサイトから図表１のような日別のデータ（図表 1-A）を，また，地域で取引される中古住宅の価格帯の傾向を調べるため，不動産会社のウェブサイトからデータ（図表 1-B）を取得したとする。\n",
    "\n",
    "|月日|最高気温|最大風速|風向|\n",
    "|---|---|---|---|\n",
    "|7月1日|24.3℃|6.1m/s|東南東|\n",
    "|7月2日|28.1℃|5.2m/s|東北東|\n",
    "\n",
    "|住宅番号|価格(百万円)|土地($m^2$)|建物面積($m^2$)|築年数|車庫|住宅の構造|内装状況|\n",
    "|---|---|---|---|---|---|---|---|\n",
    "|1|25.8|86.4|66.0|48|0|木造|やや良好|\n",
    "\n",
    "\n",
    "　データから対象の傾向を分析する場合，１行目にデータの項目名，２行目以降にその項目の値が入力された表を作成する ( データの整理 )。このように行が観測対象，列が観測項目に対応したデータで表現されるデータセットを構造化データという。  \n",
    "　上記の気象データ（図表 1-A）は時点が対象となり，その系列に沿って得られる時系列データといい，中古住宅の取引価格等データ（図表 1-B）は時点が固定されて同質の対象（中古住宅）が複数観測されるクロスセクションデータという。どちらも，対象を大量に観察することで対象の傾向を分析することができる。時系列データは時間軸に沿った傾向（トレンド）の分析も行うことができる。  \n",
    "　ここで記録されているデータの項目は，風向き，住宅の構造，内装状況のように分類項目（カテゴリー）の対象によってばらつく質的データと数直線上の値（数量）としてばらつく量的データに大きく分類される。さらにデータは測定される尺度（モノサシ）の違いで次の４種類に分けることができる。  \n",
    "　質的データとして①名義尺度，②順序尺度，量的データとして③間隔尺度，④比例尺度などがある。①名義尺度の例としては，性別などがあり，対象について男，女などの分類をすることができる。②順序尺度の例としては，成績評価などがあり，対象について優，良、可のように分類することができるとともに，優＞良＞可のような順序構造がある。ただし，優と良，良と可の程度の差が一致する保障はない。③間隔尺度の例としては気温などがあげられる。摂氏と華氏の 0 が違うなど絶対的な原点はないが等単位制はあるので，データの差は意味を持ち，データの比は意味を持たない。④比例尺度の例としては，身長や体重などがある。0cm や 0kg など，絶対的な 0 を持ち等単位制もあるので，データの差だけでなくデータの比も意味を持つ。  \n",
    "\n",
    "　尺度が異なれば，分析処理やグラフ表現に違いが出てくる。下記は尺度と分析の方法があっていない例である。\n",
    "\n",
    "- 数字で入力されている名義尺度のデータについて平均を計算してしまう。\n",
    "- 順序尺度のデータをカテゴリー別に集計した結果をカテゴリーの順序を無視して棒グラフや円グラフに表してしまう。（カテゴリーの例として，優，良，可など）\n",
    "- 間隔尺度のデータに対して，例えば，気温 15℃の地点Ａと気温 30℃の地点Ｂについて，地点 B は地点 A より２倍暑いと判断してしまう。\n",
    "\n",
    "データ分析では，記録されたデータをそのまま統計処理するだけではなく，適時，欠測値の処理や層別，変数変換，水準化などのデータ変容（マネジメント）を行う。対象によっては，すべてのデータ項目が記録されていない場合もある。そのような記録のないデータを欠測値という。欠測値は，何も記入しないでおく，もしくは欠測コード（例えば 999）を入力してデータとして区別できるようにしておく。その際，空白が数値の 0 や欠測コードが数値と混同して演算されないように注意する。欠測値は分析に際して，（ア）欠測値を含む対象全体の行（レコード）を削除する，（イ）欠測値を近いと思われる値で埋める等の処理を行うが，分析結果を提示する際にはその処理を明記する必要がある。  \n",
    "　層別とは，名義尺度や順序尺度で記録されたデータの値を基に，データの対象をグループに分けて比較分析等をすることを指す。風向別に気温の傾向を比較，住宅構造別に価格の傾向を比較する等である。変数変換とはデータ項目の変換処理のことを言い，例えば，県別データ等で人口規模の影響を取り除いて比較するために人口 1000人あたりの県民所得や病院数を算出したり，各住宅に対して床面積１㎡あたりの価格に変換したりするなどのデータ項目の変換処理をいう。水準化（レベル化）とは，量的データをある値でいくつかに区切って，順序尺度（質的データ）に変換することをいう。気温で，対象とする日を普通，夏日，真夏日などとする，世帯別所得金額を基に高所得，中所得，低所得と階級にする等である。  \n",
    "　ここでは量的データの傾向を分析する方法を紹介する。学習指導要領では，小学校で，量的データのばらつき( 分布 ) の記述として，ドットプロットや中心位置を示す統計量（代表値）である平均値・中央値・最頻値を学習する。ただし，最頻値に関しては，離散型データの場合は最頻値，連続型データの場合は階級を取った際の最大度数を示す最頻階級もしくはその階級値を指す。中学校では，度数分布やヒストグラム，四分位数及び四分位数に最小値と最大値を加えた５つの位置統計量（５数要約）を示す箱ひげ図による分布の意味を学習する。高等学校の数学Ⅰでは，分布の広がりを示す統計量である分散・標準偏差，外れ値や統計的仮説検定の考え方について学習する。四分位数はデータを大きさの順に並べたときに，データの個数 ( 相対度数 ) を 4 等分する境界値で，データが小さい方から順に第 1 四分位数（Q1），第 2 四分位数（Q2）（中央値と同値），第 3 四分位数（Q3）という。累積相対度数は中学校で学習するが，四分位数はそれぞれ，下側累積 25％点，下側累積 50％点，下側累積 75％点に相当する。四分位数を図示する方法として，箱ひげ図が用いられる。中学では四分位数に最小値と最大値を加えた 5 つの位置統計量 (5 数要約 ) を示す箱ひげ図，高校数学Ⅰでは，第１四分位数から第１四分位数− 1.5 ×\n",
    "四分位範囲 (IQR) までの間の最小値，第 3 四分位数から第 3 四分位数＋ 1.5 ×四分位範囲 ( 箱の長さ ) までの間の最大値をひげの両端とし，それ以上離れた値を外れ値として点で示す箱ひげ図（図表 2）を学習する。\n",
    "\n",
    "　箱ひげ図は，箱の部分が分布の中心傾向を示し，ひげの部分が分布の裾を表す。箱ひげ図を並べることで量的データの分布の比較が簡単にできる ( 並列箱ひげ図 )。"
   ]
  },
  {
   "cell_type": "markdown",
   "metadata": {},
   "source": [
    "#### ■具体的な手順\n",
    "1. 気象庁のサイトから，2017 年および 2018 年の 7 月 1 日から 8 月 31 日の熊谷の日最高気温のデータをダウンロードする。\n",
    "2. 表計算ソフトウェアでダウンロードしたデータを開く。表計算ソフトウェアを用いて，最小・第 1 四分位数・中央値・第 3 四分位数・最大値・平均値・分散・標準偏差を求める。これらを求める関数は，図表 3 である。これらを求める関数を，図表 3 に示す。\n",
    "3. 求めたデータをもとに分析する。2 年間の統計量を比較すると，最高気温だけでなく，第 1 四分位数・中央値・第 3 四分位数・平均値のいずれも 2018 年の方が高くなっている。このことから，2017 年と 2018 年の熊谷の気温を比較すると，全般的に気温が高い傾向にあったと考えられる。\n",
    "\n",
    "|**統計量**|2017年|2018年|用いる関数|\n",
    "|---|---|---|---|\n",
    "|最高|37.8|41.1|=MAX( 範囲 )|\n",
    "|第3四分位数|34.6|37.4|=QUARTILE.INC( 範囲 ,3)|\n",
    "|中央値|32.2|35.4|=MEDIAN( 範囲 )|\n",
    "|第1四分位数|29.1|31.9|=QUARTILE.INC( 範囲 ,1)|\n",
    "|最低|23.0|23.4|=MIN( 範囲 )|\n",
    "|平均値|31.8|35.9|=AVERAGE( 範囲 )|\n",
    "|分散|13.1|15.9|=VAR.P( 範囲 )|\n",
    "|標準偏差|3.6|4.0|=STDEV.P( 範囲 )|"
   ]
  },
  {
   "cell_type": "code",
   "execution_count": 12,
   "metadata": {},
   "outputs": [
    {
     "data": {
      "image/png": "[encoded data removed]",
      "text/plain": [
       "<Figure size 432x288 with 1 Axes>"
      ]
     },
     "metadata": {
      "needs_background": "light"
     },
     "output_type": "display_data"
    }
   ],
   "source": [
    "import numpy as np\n",
    "import matplotlib.pyplot as plt\n",
    "\n",
    "### 数値は適当\n",
    "y2017 = [37.8, 34.6, 32.2, 29.1, 23.0, 31.8, 13.1] \n",
    "y2018 = [41.1, 37.4, 35.4, 31.9, 23.4, 35.9, 15.9]\n",
    "\n",
    "# 点数のタプル\n",
    "points = (y2017,y2018)\n",
    "# 箱ひげ図\n",
    "fig, ax = plt.subplots()\n",
    "\n",
    "\n",
    "\n",
    "bp = ax.boxplot(points)\n",
    "ax.set_xticklabels(['2017', '2018'])\n",
    "# タイトル名\n",
    "plt.title('Highest temperatures in Kumagaya in July and August')\n",
    "# ラベル名\n",
    "plt.xlabel('year')\n",
    "plt.ylabel('temperatures')\n",
    "# Y軸のメモリの長さ\n",
    "plt.ylim([20,45])\n",
    "plt.grid()\n",
    "# 描画\n",
    "plt.show()"
   ]
  },
  {
   "cell_type": "markdown",
   "metadata": {},
   "source": [
    "2. 量的データ間の関係\n",
    "\n",
    "　次に，（x,y）の関係性を数学Ⅰで学習する散布図・相関係数によって分析する。散布図上のデータのパターンから，右肩上がりの直線傾向（変量ｘの値が増えたとき変量ｙの値が直線的に増える傾向）にあるとき，2 つの量的データには正の相関関係があるという。逆に変量ｘの値が増えたとき変量ｙの値が直線的に減る傾向にあるとき，負の相関関係があるという。相関関係があれば，次節で述べる単回帰直線（変量ｘの値が与えられたときの変量ｙの条件付平均値を表す直線）で，ｙの予測モデルを作成することができる。例えば，図表 1-B　中古住宅の取引価格等のデータで，土地や床面積の広さから価格を予測する直線のモデル式を推測することができる。2 変量間の関係は相関関係だけではなく，曲線的なパターンが当てはまることもある。散布図のデータに特段のパターンがない場合，言い換えれば変量 x の値が変化しても変量 y の分布に違いが見られない場合は，変量 x と y の間に関係がない。つまり変量 x は変量 y の変化を予測するモデル構築に役に立たないということになる。相関関係の強弱と向きは，相関係数で評価できる。相関係数は -1 から 1 の値を取り，符号が直線傾向の傾きに対応する。また，データが直線に近づいて分布するほど，絶対値の大きさが 1 に近くなる。表計算ソフトウェアの Excel ではCORREL 関数によって相関係数を求めることができる。"
   ]
  },
  {
   "cell_type": "markdown",
   "metadata": {},
   "source": [
    "3. 単回帰分析を用いた値の推測\n",
    "\n",
    "　中古住宅の例では，住宅の価格の違いを住宅が持つ土地や床面積などの属性の違いで説明する予測式を導くことが分析の目的となる。このとき，予測される変量を目的変数といい，散布図では y 軸になる。また予測に用いる変数を説明変数といい，ｘ軸に対応させる。データ（ｘ , ｙ）の間に相関関係があれば，直線（一次関数）y= α x+ βで傾向線を当てはめることができる。この直線を単回帰直線という。データが与えられたとき，データに最も当てはまるように直線の傾き（回帰係数）や切片を求め，傾きの解釈やｙの予測を行うことを単回帰分析という。ｘが与えられたときの直線上の値（モデル値）と実際のｙの値との差を残差といい，回帰直線は残差を 2 乗した値の総和が最小になるように決定されている（最小二乗法）。残差の絶対値が小さいほど回帰直線（モデル）の説明力が高いことになる。このモデルの説明力を測る指標が決定係数 R2で，0 から1 の範囲の値をとる。決定係数の値が１に近いほど，回帰直線のデータへのあてはまりがよいといえる。データ点がすべて直線上にのっている状態，残差がすべて０となる状態では決定係数１となる。"
   ]
  },
  {
   "cell_type": "markdown",
   "metadata": {},
   "source": [
    "4. 量的データの統計的仮説検定\n",
    "\n",
    "　量的データは，個数などの０，１，２，・・・という整数で表される離散型データと，長さ・重さなどの実数値で表される連続型データに分類される。データが研究対象である母集団から抜き取られた一部分（標本）から得られた調査データや実験データの場合，わたしたちが知りたいのはデータの背景である母集団特性値 ( 母数 ) である。母数として典型的なものに，離散型データに対する母集団での比率（母比率）である支持率など，連続型データに対する母集団での平均値（母平均）である平均所得などがある。統計的推測とは，未知の母数を全数調査することなく，標本データから推測する統計的な考え方のことであり，母数を点推定や区間推定する推定の方法と母数に関する仮説の真偽を検証する仮説検定（以下，「検定」という）に分けられる。  \n",
    "　検定の考え方は，自動レコメンドや、Web ページなどである一定期間にＡとＢの２パターンを用意しておき，どちらが効果的な結果を残したかによって Web ページを自動改善する A/B テスト等，近年のデータに基づく情報技術を理解する上で重要になっている。中学校では標本調査，高校数学Ⅰでは仮説検定の考え方を学習する。検定は次の手順で行う。検証したい仮説（効果がある，差がある，等）を対立仮説Ｈ１と呼び，その反対の仮説（効果がない，差がない，等）を帰無仮説Ｈ0 と呼ぶ。そして，標本データが帰無仮説上でどのような起こりやすさ（分布）の下で起こっているのかを確率で評価し，非常に小さな確率でしか起こらないことを証拠に，帰無仮説を棄却し対立仮説の成立を主張する。標本データから計算される検定統計量とその分布の違いによって，正規検定（Z 検定），ｔ検定，χ 2 検定等の検定の種類がある。また，対立仮説の方向によって，両側検定，右（左）片側検定を選択する。検定には帰無仮説が正しいのに棄却してしまう誤り（第１種の過誤α），対立仮説が正しく帰無仮説が誤りなのに棄却されない誤り（第 2 種の過誤β）の 2 種類の誤りがある。第１種の過誤αを予め有意水準（検定の危険率）として，5% または 1% で定めておき，帰無仮説上の分布で検定統計量の観測値が対立仮説の方向にそ\n",
    "の値以上にずれる確率（有意確率，p 値）が有意水準以下になるとき，「帰無仮説は正しくない」と考え，帰無仮説は棄却され対立仮説を採択する。p 値が有意水準より大きくなる場合は，帰無仮説が正しいというより，検出力の問題もあるので，今回のデータは帰無仮説を棄却する統計的な証拠にはならないという判断に留めることが重要である。  \n",
    "　検定の目的とデータの前提条件等に応じて適切に検定の種類を選択すれば，データからエクセル関数等を利用して検定の有意確率を求めることができるので，検定の実行は容易である。\n",
    "\n",
    "|||\n",
    "|:---|:---|\n",
    "|データの収集|<ul><li>政府統計の総合窓口（e-Stat）からデータを検索</li><li>取得</li><li>科学の道具箱　https://rika-net.com/contents/cp0530/contents/08.html</li>|\n",
    "|データの整形|・必要なデータを抽出する・データを整形する|\n",
    "|データの分析|・散布図行列を描画して散布図や相関係数から関係を読み取る・関係が深い項目を用いて，単回帰分析を行う|"
   ]
  },
  {
   "cell_type": "markdown",
   "metadata": {},
   "source": [
    "#### ■手順１　データ収集\n",
    "　政府統計の総合窓口（e-Stat）の，次の URL にある平成 29 年度体力・運動能力調査のテスト項目の年次推移のデータをダウンロードする。\n",
    "　https://www.e-stat.go.jp/stat-search/files?page=1&layout=datalist&toukei=00402102&tstat=000001088875&cycle=0&tclass1=000001119456&second=1&second2=1\n",
    "\n",
    "※「体力運動能力調査　政府統計」で検索し，表示されたページで「平成 29 年度」を選択し，さらに「テスト項目の年次推移」を選択しても良い。\n",
    "　「科学の道具箱」の中から「データライブラリ－」のページから，「体力測定データ」を選択，その中の「02. 高等学校体力測定データ」をダウンロードする。\n",
    "　https://rika-net.com/contents/cp0530/contents/04-03-01.html"
   ]
  },
  {
   "cell_type": "markdown",
   "metadata": {},
   "source": [
    "#### ■手順２　データ整形\n",
    "**【政府統計の総合窓口（e-Stat）】**  \n",
    "　ここでは，16 歳男子を対象に分析したいので，それぞれのテスト項目から 16 歳男子のデータを抽出する。調査項目によっては平成 10 年度よりも前からのデータも含まれているため，平成 10 年度以降のものだけに揃える。次の手順で散布図行列を描くため，各項目が列になるように，貼り付ける操作をする際には，「形式を選択して貼り付け」のうち「行 / 列の入れ替え」を用いて行う。\n",
    " \n",
    "**【科学の道具箱】**  \n",
    "　高等学校体力測定データには，高１から高 3 までの男女のデータが含まれている。その中から，「フィルター」もしくは「並べ替え」機能を使って，高 1 男子のみのデータとする。"
   ]
  },
  {
   "cell_type": "markdown",
   "metadata": {},
   "source": [
    "#### ■手順３－１　散布図行列を用いて散布図や相関係数から関係を読み取る\n",
    "　表計算ソフトウェアの Excel では，2 つの項目間の関係を散布図で表したり，相関係数を求めたりすることができる。しかし，一度に複数の項目間の散布図を描くことはできない。複数の２項目間の散布図を行と列に対応させて並べて描画したものを散布図行列，同様に相関係数を行列で表したものを相関係数行列という。散布図行列を描画できるExcelのマクロを用意した。それにより描画した散布図行列は図表 8である。相関係数行列はエクセルの「データ」→「データの分析」→「相関」からも作成することができる。また，「科学の道具箱」の「統計グラフソフトを使おう」からダウンロードできる中学生・高校生向けグラフソフトでも散布図行列の作成が可能である。\n",
    " \n",
    "**［政府統計の総合窓口（e-Stat）からの時系列データ］**\n",
    "\n",
    "**［科学の道具箱からの個人の体力測定データ］**\n",
    "\n",
    "\n",
    "上記の 2 種類のデータは項目も調査対象も類似しているが，一方は年度毎で集計された時系列データ（マクロな統計指標）で，もう一方は生徒一人ひとりを対象としたいわゆる個票とよばれるマイクロデータである。時系列データには，時間推移に伴うトレンド要因（例えば，その期間に全般的に体力や運動能力そのものが低下傾向にあるなど）が交絡因子として，項目に対して共通に関係する場合もあり，単純に散布図や相関係数から項目同士の直接的な関係と一概に判断するのは誤りである。一方で個人を対象としているデータは，項目間の関係はより直接的に解釈できる。時系列データに関しては時点間の変化の関係として傾向を捉える必要がある。"
   ]
  },
  {
   "cell_type": "markdown",
   "metadata": {},
   "source": [
    "#### ■手順３－２　単回帰分析による予測モデル構築\n",
    "　上記の 2 種類のデータそれぞれに，単回帰モデルを当てはめ，予測モデルを構築する。まず，時系列データに関しては，横軸 X に年度，縦軸 Y に 1500m 走 ( 秒 ) をとった散布図を作成する。グラフの点をクリックし，マウスの右メニューで「近似曲線の追加」を選択，「線形近似」を選びグラフに数式と R2 を追加すると，図表 9-Aが得られる。回帰係数は -0.837 秒／年となり，1 年あたり記録が平均で 0.837 秒縮む傾向にあることがわかる。この予測式に，x=30 を代入すると，30 年度の予測値を求めることができる。また，このモデルの寄与率は 50%である。\n",
    "\n",
    "次に，個人の体力測定データに対して，立ち幅跳びの記録から 50m( 走 ) のタイムを予測する回帰モデルを同様の手順で求めると，図表 9-B となる。回帰係数は，－ 0.015 秒／ cm なので，生徒間のばらつきから 10cm 立ち幅飛びの記録を高くすると，平均で 50m 走のタイムが 0.15 秒縮まる傾向にあることがわかる。また，このモデルの寄与率は 45％である。"
   ]
  },
  {
   "cell_type": "markdown",
   "metadata": {},
   "source": [
    "＜参考文献・参考サイト＞\n",
    "- 「統計学基礎」日本統計学会編，東京書籍，2015 年\n",
    "- 「過去の気象データ・ダウンロード」気象庁，https://www.data.jma.go.jp/gmd/risk/obsdl/index.php\n",
    "- 「科学の道具箱」https://rika-net.com/contents/cp0530/contents/\n",
    "- 「政府統計の総合窓口（e-Stat）」https://www.e-stat.go.jp/"
   ]
  },
  {
   "cell_type": "markdown",
   "metadata": {},
   "source": [
    "# 質的データの分析"
   ]
  },
  {
   "cell_type": "markdown",
   "metadata": {},
   "source": [
    "1. 質的データの種類とその扱い\n",
    "\n",
    "　学習 22 において説明したように，データには尺度水準を基にすると，名義尺度，順序尺度，間隔尺度，比例尺度の 4 種類に分けて考えることができる。このうち，名義尺度と順序尺度をまとめて質的データまたはカテゴリ型データと呼ぶことがある。これらは量的データと異なり，一見すると数値で表されている場合などでも量的データと同様の演算や可視化を行うことができないことがあるので注意が必要である。質的データは，実際はテキスト（文字）などで表されるデータもあるが，それに数値が割り当てられている場合も多い。\n",
    " \n",
    "回答形式\n",
    "\n",
    "||1.あまりあてはまらない|2.ややあてはまらない|3.どちらともいえない|4.ややあてはまる|5.よくあてはまる|\n",
    "|---|---|---|---|---|---|\n",
    "|文化祭に満足した。||||〇||\n",
    "\n",
    "例えば，男性に 1，女性に 0 という数値が割り当てられているとき，その数値の平均値に意味はあるだろうか。確かに男女比を計算することが可能であり，プログラミングや表計算ソフトウェアにおいての集計では，よく利用される手法である。ところが，学年の項目に 1，2，3 などの数値が入力されている場合，これらの総和や平均値は何を意味するだろうか。発達段階を考慮した研究調査ならば，意味を持つ場合もあるかもしれない。アンケートなどを行う際などに仮に番号を付けたものなどについても同様のことが言える。それらの数値が順序しか意味を持たない場合，順序さえも意味を持たない場合などに分けて考えることにより，集計や平均値が意味を持つか否かが理解できる。右下のような主観的な判断を回答させる場合では，①と②では，回答者の意識が異なることなども理解させたい。一般的に，質的データに関しては，量的データと異なる処理と可視化が求められていることを理解したい。可視化に関しては，学習 24 で扱うこととする。"
   ]
  },
  {
   "cell_type": "markdown",
   "metadata": {},
   "source": [
    "2. テキストデータの扱いについて\n",
    "\n",
    "　従来は，テキストなどの文字データに関しては，質的データとして使われたり，その表示内容として使用されたりすることが主であった。アンケートなどにおいても，選択肢やリッカート尺度などによる項目などの扱いに関しては，集計や分析がなされてきたが，自由記述の文章の分析をコンピュータで行うことができなかったために，人間による読解や手作業による分析や作業に頼らざるをえなかった。  \n",
    "　近年，テキスト処理や自然言語に関するコンピュータによる処理技術が進み，文字認識や音声認識等の自然言語処理などと関連して，アンケート等の自由記述や小説などの長い文章に関する分析をすることも可能になった。  \n",
    "　一般にコンピュータのプログラミング言語と区別して，人間の日常の会話や文章などに用いる日本語や英語などの言語を自然言語と呼ぶ。テキストデータの処理に関しては，英語と日本語では，その特性上大きく異なる。英語では，単語という区切りがあり，単語と単語の間には空白が空いているために単語を区切ることはそれほど難しくない。しかし，日本語の文章では，単語という区切りは，文章上からそのまま見てわかるわけではない。\n",
    "\n",
    "例えば，有名な早口言葉である「すもももももももものうち」などは，単語や品詞としてどのように分解すればよいのか，という処理が必要になる。また，英語でも日本語でも文法があり，品詞がある。また品詞によっては活用形があり，同じ品詞でも見かけ上は形が異なるものもあり，完全一致するものだけ検索することは難しい。  \n",
    "　従来は人間が行っていたこのような処理をコンピュータで行うことで，様々な応用がなされている。アンケートの自由記述やお客様はがき・用紙の意見分析，小説等の作品・作者の傾向分析，Web 上の記事の流行や内容の分析，Twitter や Facebook 等の SNS などの発言の分析やトレンドの抽出など，様々な分野で活用されている技術である。"
   ]
  },
  {
   "cell_type": "markdown",
   "metadata": {},
   "source": [
    "3. テキストデータの可視化\n",
    "\n",
    "　ここでは日本語のテキストマイニングの基本について考えて，実際に実習をしてみよう。株式会社ユーザーローカルでは，様々なデータ分析のツールを Web ベースで提供している。ソフトウェアのインストールなしにデータさえ用意すれば，手軽に利用できるので，授業でも活用できる。今回は，（株）ユーザーローカルのユーザーローカルテキストマイニングツール(https://textmining.userlocal.jp/) を使ってみる。以下のデータはユーザーローカルテキストマイニングツールにサンプルとして掲載されている，太宰治『走れメロス』のデータを分析した結果である。\n",
    "\n",
    "　ワードクラウド（左図）だけでなく，出現頻度グラフ（右図），共起キーワードなどの様々な可視化が表示される。Twitter の発言内容等も可視化してみると，生徒の興味や関心を高めることができる。そして，その傾向などについて，生徒の主観的な解釈を含めて，考えていくことでテキストマイニングへの理解を深めることが可能である。"
   ]
  },
  {
   "cell_type": "markdown",
   "metadata": {},
   "source": [
    "4. テキストの分析とその可能性\n",
    "\n",
    "　テキストマイニングを中心にテキストデータの分析についての話をしてきた。これらのテキストデータの分析にはどのような応用が考えられるだろうか。例えば，最初にあげた小説の作品分析などでは，文学作品の作者の言葉の使い方などについて分析でき，未発表の作品などについて，その作者が書いたものであるかの真贋を確かめることができる。テキストだけでなく，写真，絵画や彫刻などの作品に関しても機械学習や深層学習などの技術を用いて鑑定することが可能になる。また，後者のような SNS の発言分析などでは，発言の真偽だけでなく，その発言者の傾向や変化なども分析することが可能になる。これまでは，コンピュータによる分析というと数量的な分析が主であったものが，より人間の判断に近い分析ができるようになったということである。  \n",
    "　また，これらの技術は，音声認識などにも活用されている。コンピュータやスマートフォン，スマートスピーカーに搭載されている AI アシスタント(Siri,Cortana,Alexa など ) も人間の音声をテキストに変換し，形態素解析を行い，意味解釈を行い，その回答を返すように作られている。かつては単なるパターンマッチングであったものが，このようなテキストマイニング技術と機械学習などの技術を融合することにより，人間と同じような機能を持つ機器が登場してきている。"
   ]
  },
  {
   "cell_type": "markdown",
   "metadata": {},
   "source": [
    "#### ◇発展\n",
    "　日本語のテキストマイニングを行うためには，文章を意味のある最小限の単位に分解する形態素解析をしなければならず，そのためのソフトウェアが必要である。有名なものとしては，「MeCab（めかぶ）」と「茶筅（ちゃせん）」の２種類がある。テキストマイニングを行う際は，これらの形態素解析システムをプログラミング言語やアプリケーションソフトウェアから呼び出して使用する。  \n",
    "　Windows ユーザーにはよく使われている「KH Coder」は「茶筅」を用いてテキストマイニングを行うアプリケーションソフトウェアである。ここでは，統計解析ソフトウェア R と MeCab を用いた簡単な例を紹介する。  \n",
    "　R で MeCab を使うには\n",
    " \n",
    "1. 統計解析ソフトウェア R のインストール\n",
    "2. 形態素解析システム MeCab のインストール\n",
    "3. R で MeCab を使うためのソフトウェア RMeCab のインストール\n",
    "4. RMeCab の呼び出し\n",
    "\n",
    "という手順が必要である。(1) ～ (3) は端末ごとにインストールが必要であり，(4) は MeCab を使用する際に宣言す\n",
    "る必要がある。\n",
    "　(1）～ (3）がインストールされている前提で，R を起動して形態素解析をしてみよう。\n",
    " \n",
    "```\n",
    "Library(RMeCab) 説明：RMeCab を呼び出す\n",
    "unlist(RMeCabc(“ 隣の客はよく柿食う客だ ”)) 説明：形態素解析を行う\n",
    "```\n",
    "\n",
    "```\n",
    " 名詞 助詞 名詞 助詞 形容詞 名詞 動詞 名詞 助動詞\n",
    " \" 隣 \" \" の \" \" 客 \" \" は \" \" 良く \" \" 柿 \" \" 食う \" \" 客 \" \" だ ”\n",
    "```\n",
    "\n",
    "このように日本語の文章について意味を持つ最小限の単位に分割することが可能である。\n",
    "　次に，著作権フリーの作品を提供している「青空文庫」で芥川龍之介の「杜子春」の形態素解析をしてみよう。\n",
    "　手順は以下のとおりである。\n",
    " \n",
    "1. パイプ関数の処理に必要な dplyr パッケージをインストールする。\n",
    "2. パイプ関数の処理に必要な dplyr パッケージを読み込む。\n",
    "3.  R に「青空文庫」から作品を読み込むための Aozora 関数を読み込む。\n",
    "4.  Aozora 関数を使って，R に作品を読み込む。\n",
    "5.  形態素解析を行う。\n",
    "\n",
    "なお，Aozora 関数は RMeCab の作者である徳島大学の石田基広先生が提供している。\n",
    "(1) がインストールされている前提で R を起動して形態素解析をしてみよう。"
   ]
  },
  {
   "cell_type": "markdown",
   "metadata": {},
   "source": [
    "```\n",
    "Library(RMeCab) 説明：RMeCab を呼び出す\n",
    "unlist(RMeCabc(“ 隣の客はよく柿食う客だ ”)) 説明：形態素解析を行う\n",
    "```"
   ]
  },
  {
   "cell_type": "code",
   "execution_count": 6,
   "metadata": {
    "scrolled": false
   },
   "outputs": [
    {
     "name": "stdout",
     "output_type": "stream",
     "text": [
      "隣\tトナリ\tトナリ\t隣り\t名詞-普通名詞-一般\t\t\t0\n",
      "の\tノ\tノ\tの\t助詞-格助詞\t\t\t\n",
      "客\tキャク\tキャク\t客\t名詞-普通名詞-一般\t\t\t0\n",
      "は\tワ\tハ\tは\t助詞-係助詞\t\t\t\n",
      "よく\tヨク\tヨク\t良く\t副詞\t\t\t1\n",
      "柿\tカキ\tカキ\t柿\t名詞-普通名詞-一般\t\t\t0\n",
      "食う\tクー\tクウ\t食う\t動詞-一般\t五段-ワア行\t連体形-一般\t1\n",
      "客\tキャク\tキャク\t客\t名詞-普通名詞-一般\t\t\t0\n",
      "だ\tダ\tダ\tだ\t助動詞\t助動詞-ダ\t終止形-一般\t\n",
      "EOS\n",
      "\n"
     ]
    }
   ],
   "source": [
    "import MeCab\n",
    "tagger = MeCab.Tagger()\n",
    "print(tagger.parse(\"隣の客はよく柿食う客だ\"))"
   ]
  },
  {
   "cell_type": "markdown",
   "metadata": {},
   "source": [
    "```\n",
    "library(dplyr) 説明：dplyr パッケージの読み込み\n",
    "source(“http://rmecab.jp/R/Aozora.R”) 説明：Aozora 関数の読み込み\n",
    "x<-Aozora(“https://www.aozora.gr.jp/cards/000879/files/43015_ruby_17393.zip”)\n",
    "説明：「杜子春」を x に読み込む\n",
    "glove<-RMeCabFreq(x) \n",
    "```\n",
    "\n",
    "```\n",
    "# file = ./NORUBY/toshishun2.txt\n",
    "# length = 1150\n",
    "```\n",
    "\n",
    "```\n",
    "glove %>% head() 説明：x に対する操作\n",
    "```\n",
    "\n",
    "```\n",
    "glove %>% head() 説明：x に対する操作\n",
    "```\n",
    "\n",
    "```\n",
    "# Term Info1 Info2 Freq\n",
    "#1 あの フィラー * 1\n",
    "#2 いいえ 感動詞 * 1\n",
    "#3 おお 感動詞 * 2\n",
    "#4 こら 感動詞 * 3\n",
    "#5 さあ 感動詞 * 1\n",
    "#6 はあ 感動詞 * 1\n",
    "```"
   ]
  },
  {
   "cell_type": "markdown",
   "metadata": {},
   "source": [
    "　ここで，Term は単語（形態素），Info1 は品詞の大分類，Info2 は品詞の細分類，Freq は形態素の出現頻度を表している。Subset 関数を使うと，選びたい品詞，除外したい品詞を指定することができる。以下では，大分類の中から名詞と動詞を選択し，細分類から数，非自立，接尾にあたる用語を除外している。"
   ]
  },
  {
   "cell_type": "markdown",
   "metadata": {},
   "source": [
    "＜参考文献・参考サイト＞\n",
    "- 「ユーザーローカルテキストマイニングツール」https://textmining.userlocal.jp\n",
    "- 「RMeCab」https://sites.google.com/site/rmecab/\n",
    "- 「KHCoder」http://khcoder.net/"
   ]
  },
  {
   "cell_type": "markdown",
   "metadata": {},
   "source": [
    "# データの形式と可視化"
   ]
  },
  {
   "cell_type": "markdown",
   "metadata": {},
   "source": [
    "1. 質的データとその種類\n",
    "　名義尺度と順序尺度をまとめて質的データまたはカテゴリ型データと呼ぶことがある。これらは量的データと異なり，一見すると数値で表されている場合などでも量的データと同様の演算や可視化を行うことができないことがあるので注意が必要である。  \n",
    "　例えば，クラスの生徒の男女別の身長について可視化するとしたら，どのような図を考えるだろうか。また，生徒の期末考査の英語と数学の成績を比較する際に素点ではなく 5 段階評定しか使うことができない場合，どのような可視化を行えばよいだろうか。  \n",
    "　前者の例では，質的データ( 名義尺度 ) ×量的データ ( 比例尺度 ) と考えることができる。このとき，散布図などの量的データ×量的データの可視化の手法を使うことは望ましくない。適切でわかりやすい表現を行うことができないからである。総務省統計局の身体測定のサンプルデータから，箱ひげ図とヴァイオリンプロットを作成した。ヴァイオリンプロットは箱ひげ図では表現しきれない分布の様子を表すことができる可視化手法である。  \n",
    "　統計処理ソフトウェア R で，箱ひげ図は，以下のプログラムで描画することができる。\n",
    " \n",
    "プログラム\n",
    "```\n",
    "boxplot(run50m~gender.data=gen_50)\n",
    "```\n",
    "ヴァイオリンプロットについては，以下のプログラムで描画することができる。\n",
    "プログラム\n",
    "```\n",
    "library(ggplot2)\n",
    "ggplot(data=gen_50, aes(x=gender, y=run50m, color=gender)) + geom_violin()\n",
    "```\n",
    "\n",
    "※ R のグラフ描画ライブラリ ggplot2 の導入方法\n",
    "- 初めて導入するとき，RStudio の Console から ( 要インターネット接続 )  \n",
    "install.packages(\"ggplot2\")\n",
    "- 導入したものを使用するとき  \n",
    "library(ggplot2)\n",
    "\n",
    "\n",
    "　後者の例はどうなるだろうか。質的データ ( 順序尺度 ) ×質的データ ( 順序尺度 ) である。ここでは，仮にランダムに\n",
    "40 人の 5 段階のデータを作成した。分割表 ( クロス集計表とも呼ばれている ) は，可視化手法の一つであり例えば図表 2 のように表すことができる。縦が英語，横が数学である。英語が 2 で数学が 5 の生徒は 3 人いると読み取ることができる。これを散布図で表すこともあるが，図表 3 のようになり，よく表現できているとは言えない。\n",
    "\n",
    "\n",
    "このような，質的データ×質的データにおいては，分割表なども用いることが多いが，端的に可視化するときには，モザイク図や図表 4 のマリメッコチャートなども用いられる。"
   ]
  },
  {
   "cell_type": "markdown",
   "metadata": {},
   "source": [
    "2. データの分析と可視化\n",
    "\n",
    "　データは形式や分析の目的に合った可視化ができる。\n",
    "　前節では，質的データの可視化についての説明をした。数学のデータの分析で学ぶ可視化については，量的データの可視化が主であるために，質的データでも同様の可視化手法を行ってしまうことも多く見られるが，質的データにおいては，それに対応した可視化が存在することを意識させたい。  \n",
    "　さて，表計算やリレーショナルデータベースで表現されている矩形データの可視化については後述するが，別の形式データの可視化についても考えてみよう。例えば，数学の問題集の問題と解法の関係などは矩形データで表すよりも関係図で示すことが適切である場合が多い。\n",
    "\n",
    "さて，矩形データに関しては，表計算ソフトウェアのグラフ機能を使って表すことも一つの方法ではあるが，先にあげた統計解析ソフトウェア R などで記述して，可視化することも可能である。また可視化専用のソフトウェアも多く存在する。Tableau（タブロー）Desktop は，Tableau 社が提供している可視化ソフトウェアである。教育機関での授業での利用や学生が使用する場合は，無償のライセンスを提供する Tableau Academic プログラムがある。Excel，CSV など様々な形式のデータに対応しており，データを読み込んだ後は，ドラッグ & ドロップやダブルクリックなどの操作で手軽に可視化することが可能である。BI（Business Intelligence）ツールとして提供されているツールであり，企業の経営意志決定に使える本格的なツールとしても有名なツールである。チュートリアルビデオなどもあり，使い方を自学自習で学ぶことができ，Excel などで，データの加工やクリーニングを行い，Tableau Desktop で可視化するというような使い方もできる。また，Excel などのデータを読み込んだ時点で，データの項目を市町村別就業人口などの分析の切り口であるディメンションと市町村ごとの就業人口などの指標であるメジャーに分けてくれる，これは少し異なる部分もあるが，質的データと量的データの判別をしてくれるとして考えてもよいだろう。また可視化の種類を選択する際にもメジャーを選択するのかディメンションを選択するのかのガイドも表示してくれるので，わかりやすい。  \n",
    "　通常の矩形データでも Tableau Desktop で使用することは可能であるが，更に様々な情報を付け加えると更に表現力が広がる。郵便番号や都道府県，市町村名などを含めることで地図上にグラフを表示することなども簡単に行うことができる。"
   ]
  },
  {
   "cell_type": "markdown",
   "metadata": {},
   "source": [
    "3. データの可視化と問題発見\n",
    "\n",
    "　データの可視化は何のために行うのだろうか。可視化することによって，問題を発見することができ，それに対して詳細な分析や解釈，解決策を考えることができるからである。ここでは，統計解析ソフトウェア R の ggplot2 というパッケージに含まれている diamonds サンプルデータを用いて説明しよう。このデータは，実際に米国で流通したダイアモンドのカラット，カット，透明度，大きさ，価格などを含んだ数万件の大きなデータである。  \n",
    "※ R のデータフレーム操作ライブラリ dplyr の導入方法（再掲）\n",
    "- 初めて導入するとき，RStudio の Console から ( 要インターネット接続 )  \n",
    "install.packages(\"dplyr\")\n",
    "- 導入したものを使用するとき  \n",
    "library(dplyr)\n",
    "\n",
    "※ R のグラフ描画ライブラリ ggplot2 の導入方法（再掲）\n",
    "- 初めて導入するとき，RStudio の Console から ( 要インターネット接続 )  \n",
    "install.packages(\"ggplot2\")\n",
    "- 導入したものを使用するとき  \n",
    "library(ggplot2)\n",
    "\n",
    "プログラム\n",
    "```\n",
    "> library(dplyr)\n",
    "> library(ggplot2)\n",
    "> diamonds\n",
    "```\n",
    "\n",
    "実行結果\n",
    "\n",
    "　このデータをもとにダイアモンドのカラット数を 0.01 刻みでグラフを描くと面白いことが分かる。\n",
    "\n",
    "プログラム\n",
    "```\n",
    "smaller <- diamonds %>% + filter(carat < 3)\n",
    "ggplot(data = smaller, mapping = aes(x = carat)) + geom_histogram(binwidth = 0.01)\n",
    "```\n",
    "\n",
    " このグラフは，なぜか右側に裾を引くような形を繰り返している。これも不思議な現象であるが，このグラフに関して，話し合い各自の解釈を考えることも大切な実習である。グラフの表示結果は，客観的であり，みな同じものが表示されるかもしれないが，それぞれの読み取り方（解釈）を重視することもデータの分析では大切なスキルの一つである。\n",
    "　次のプログラムは，横軸にカラット数，縦軸に価格として散布図を描くためのものである。このグラフから問題を発見することも可能である（グラフは省略する）。\n",
    "\n",
    "プログラム\n",
    "```\n",
    "library(ggplot2)\n",
    "ggplot(data = diamonds) + geom_point(mapping = aes(x = carat, y = price))\n",
    "```\n",
    "\n",
    "　数学科の授業の過程で数万個のデータを描画することは考えにくい。データが多いからこその問題も見つけることができる。点が重なってしまって，どこに点が集中しているのかが分からなくなる場合もあるが，現実社会で扱うデータでは，このようなことはよく見られることである。  \n",
    "　次の問題も問題提起である。下の箱ひげ図は，横軸にダイアモンドのカット（cut），縦軸に価格（price）を設定して描いたものである。横軸は右に行くほどカットの質が上がる。\n",
    " \n",
    "プログラム\n",
    "```\n",
    "ggplot(diamonds, aes(cut, price)) + geom_boxplot()\n",
    "```\n",
    "\n",
    "\n",
    "　これは不思議な現象に見えるだろう。カットの質が上がるほど，価格が下がっている。色や透明度の高さなどでも同様の逆転現象が起こる。ヒントは「交絡因子」である。交絡因子とは，対象としている 2 変数と相互に相関の高い隠れた変数（因子）のことである。\n",
    "\n",
    "\n",
    "可視化はデータの分析の一部でもあり，問題の発見や現象の説明に活用することができる。また，予測を立てることにも活用することができる。"
   ]
  },
  {
   "cell_type": "markdown",
   "metadata": {},
   "source": [
    "＜参考文献・参考サイト＞\n",
    "- 「R ではじめるデータサイエンス」Hadley Wickham,Garrett Grolemund 著，オライリージャパン ,2017\n",
    "- 「チャート式シリーズ　入試必携 168」数研出版\n",
    "- 「Tablean Desktop」https://www.tableau.com/ja-jp/products/desktop"
   ]
  },
  {
   "cell_type": "code",
   "execution_count": null,
   "metadata": {},
   "outputs": [],
   "source": []
  }
 ],
 "metadata": {
  "kernelspec": {
   "display_name": "Python 3",
   "language": "python",
   "name": "python3"
  },
  "language_info": {
   "codemirror_mode": {
    "name": "ipython",
    "version": 3
   },
   "file_extension": ".py",
   "mimetype": "text/x-python",
   "name": "python",
   "nbconvert_exporter": "python",
   "pygments_lexer": "ipython3",
   "version": "3.7.4"
  }
 },
 "nbformat": 4,
 "nbformat_minor": 2
}
