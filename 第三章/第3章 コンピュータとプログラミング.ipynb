{
 "cells": [
  {
   "cell_type": "markdown",
   "metadata": {},
   "source": [
    "# コンピュータの仕組み\n"
   ]
  },
  {
   "cell_type": "markdown",
   "metadata": {},
   "source": [
    "## コンピュータの仕組み\n",
    "1. 構成要素\n",
    "\n",
    "　ブラウザのアイコンをクリックして検索をする時について考えてみよう。この時，マウスやキーボードで入力してコンピュータが動き，画面に結果が表示される。\n",
    "\n",
    "　さらにコンピュータの中の様子について考えてみよう。コンピュータは，制御装置，演算装置，記憶装置，入力装置，出力装置の５つで構成される。制御装置と演算装置を合わせて CPU（Central Processing Unit）という。CPU は記憶装置から命令やデータを取り出して処理を行う。  \n",
    "　入力装置や出力装置を含め，すべてを制御するのが制御装置，様々な演算を行うのが演算装置である。CPU の動作速度が速いほど，１動作あたりに実行する命令や処理するデータが多いほど性能の良い CPU となる。また，用途や目的に合わせてメモリや HDD（ハードディスク）などの大きさを決める必要がある。  \n",
    "　CPU にとっての作業場所がメモリである。十分な広さが必要であり，特に複数の仕事を同時に進行する場合は広くする必要がある。  \n",
    "　ここがせまいと，コンピュータ全体の処理速度が落ちる。ハードディスクは，情報を保存しておく引き出しと考えてもらいたい。大量の情報を保存できるが読み書きに時間がかかる。  \n",
    "メモリが少ない場合は，あふれたデータをハードディスクに保存するため，ハードディスクとのデータのやり取りにほとんどの時間がとられ，いくら CPUが高速でも実行速度は上がらない。必要十分なメモリがあって，ハードディスクのかわりにデータの読み書きの速度が速い SSD（Solid State Drive）などを使うと，コンピュータの実質的な動作速度を上げることができる。\n"
   ]
  },
  {
   "cell_type": "markdown",
   "metadata": {},
   "source": [
    "2. 論理演算\n",
    "\n",
    "　現在のコンピュータの演算装置は，0 か１のみで表現される 2 進数を扱うように設計されている。２進数を大きな桁で非常に高速で演算することによりすべての演算を行う。その基本的な演算は四則演算とは異なり AND，OR，NOT の３つである。0 を「なし」，1 を「あり」と考え，ベン図と表で表現すると以下のようになる。"
   ]
  },
  {
   "cell_type": "markdown",
   "metadata": {},
   "source": [
    "3. 論理演算を用いた二進数の足し算\n",
    "\n",
    "それでは，AND，OR，NOTを用いて２進数の足し算について考えてみる。論理演算の基本は，AND,OR,NOTなので，この３つで基本的にどんな計算も表すことができる。"
   ]
  },
  {
   "cell_type": "markdown",
   "metadata": {},
   "source": [
    "4. 四則演算の考え方\n",
    "\n",
    "3.では論理演算を用いた２進数の足し算を紹介した。他の計算は以下のように行う。\n",
    "\n",
    "###### （引き算）  \n",
    "  ５－３＝２の計算は，５に７を足して１桁目の数字を用いる。  \n",
    "  ※ここで７は３に足して 10 になる数字（１桁あがる数字，補数という）。  \n",
    "   引き算は補数を使った足し算\n",
    "###### （掛け算）及び（割り算）  \n",
    "  ２進数の掛け算は左シフトと足し算，割り算は右シフトと引き算を組み合わせて筆算と同じように行う。  \n",
    "　　※シフト演算とは，２進数で書かれたビット列を左または右にずらす操作。"
   ]
  },
  {
   "cell_type": "markdown",
   "metadata": {},
   "source": [
    "## 計算誤差について\n",
    "1. 誤差の考え方\n",
    "\n",
    "　コンピュータで変数は指定されたビット数の箱に入っていると考える。この箱 ( 定められたビット数 ) に収まるものであれば誤差は生じないが，収まらないものは誤差が生じる。  \n",
    "　例えば，15 ビットの箱を準備したとき，13 ビットの魚 A は箱に収まるが，20 ビットの魚 B は箱に入らない。このとき失われた 5 ビットが計算誤差の原因となる。  \n",
    "　コンピュータに計算させる時には，必要な精度に見合った箱を用意するとともに，計算の途中でこの箱からはみ出さないように注意する必要がある。"
   ]
  },
  {
   "cell_type": "markdown",
   "metadata": {},
   "source": [
    "2. プログラミングで誤差を体験する\n",
    "\n",
    "　学習指導要領解説でプログラミング言語については，「アルゴリズムを基に平易にプログラムを記述できる」と記載されている。「平易」とは，書きやすく読みやすいことであり，誰が書いても同様のコードになることが望ましい。また，人工知能や統計の使用を含め，目的に沿ったライブラリなどが豊富にあれば多様な問題解決に対応することができる。  \n",
    "　コンピュータでは，数値は小数点を含まない「整数」，または小数点を含む「浮動小数点数」のどちらかで扱われる。これらの数値は，コンピュータの内部では固定の桁数で扱われることが多い。  \n",
    "　float 型で指定した変数に桁数の多い数字や，その変数型で扱うことのできる最大値より大きい数字を代入して表示するプログラムと実行例を示す。"
   ]
  },
  {
   "cell_type": "code",
   "execution_count": 1,
   "metadata": {},
   "outputs": [
    {
     "name": "stdout",
     "output_type": "stream",
     "text": [
      "1.7976931348623157e+308\n",
      "1.7976931348623157e+308\n",
      "inf\n"
     ]
    }
   ],
   "source": [
    "### プログラム\n",
    "### 図表 7　オーバーフローの発生\n",
    "import sys # 変数や関数のライブラリを呼び出し\n",
    "x=sys.float_info.max #float 型で表せる最大値を x に代入\n",
    "print(x) # 画面に x の値を表示\n",
    "x=1.797693134862315799999e+308 #float 型の小数点以下に 5 桁「9」の追加した値を代入\n",
    "print(x) # 画面に x の値を表示\n",
    "x=1.8e+308 #float 型の最大値より大きな値を代入\n",
    "print(x) # 画面に x の値を表示"
   ]
  },
  {
   "cell_type": "markdown",
   "metadata": {},
   "source": [
    "　１行目の実行結果は float 型で表示できる最大値を表示し，２行目では小数点以下に数値を追加しても，扱える桁数を超えているため値が切り捨てられて表示され，３行目は扱える値以上の数値は表示できないため，オーバーフローが起こっている。また，整数同士の減算と小数同士の減算のプログラムを実行してみると以下のようになる。"
   ]
  },
  {
   "cell_type": "code",
   "execution_count": 2,
   "metadata": {},
   "outputs": [
    {
     "name": "stdout",
     "output_type": "stream",
     "text": [
      "1\n",
      "0.010000000000000009\n"
     ]
    }
   ],
   "source": [
    "### 「整数」のみで減算した結果と「小数」のみで減算した結果を表示するプログラム\n",
    "### 図表 8　コンピュータの計算誤差\n",
    "x = 28-27 #x に 28-27 の計算結果を入れる\n",
    "print(x) # 画面に x の値を表示\n",
    "y = 0.28-0.27 #y に 0.28-0.27 の計算結果を入れる\n",
    "print(y) # 画面 y の値を表示"
   ]
  },
  {
   "cell_type": "markdown",
   "metadata": {},
   "source": [
    "　小数の 0.28 から小数 0.27 を引くと，本来であれば計算結果は 0.01 になるはずだが，プログラムを実行した結果を見ると 0.01 にはならず，コンピュータの計算誤差が発生していることが分かる。"
   ]
  },
  {
   "cell_type": "markdown",
   "metadata": {},
   "source": [
    "# 外部装置との接続"
   ]
  },
  {
   "cell_type": "markdown",
   "metadata": {},
   "source": [
    "1. コンピュータによる計測・制御\n",
    "\n",
    "　センサやアクチュエータなどの計測・制御システムを構成する要素の機能や仕組みを理解し，計測・制御システムの中では一連の情報がプログラムによって処理されており，順次，分岐，反復という処理手順の組み合わせによって実現されていることを理解する。  \n",
    "　センサなどの装置を使って自然現象などの量を測ることを計測といい，ある目的の状態にするためにアクチュエータなどの装置を操作することを制御という。  \n",
    "　コンピュータを使った計測は，センサなどの外部装置から得た計測データを入力ポート（入力端子）を経由してコンピュータに入力することになる。また，コンピュータを使った制御は，コンピュータから出力ポート（出力端子）を経由してアクチュエータなどの外部装置を操作するデータを出力することになる。図表１は二値的に動作するデジタル型のセンサやアクチュエータの場合の構成であり，連続的に動作するアナログ型のセンサやアクチュエータの場合は，アナログをデジタルに変換する AD コンバータやデジタルをアナログに変換する DA コンバータを経由させる図表２の構成になる。  "
   ]
  },
  {
   "cell_type": "markdown",
   "metadata": {},
   "source": [
    "2. センサとアクチュエータ\n",
    "\n",
    "　センサは，自然現象の情報を人間や装置などが扱いやすい信号に置き換える装置であり，温度，照度，加速度，距離などを測定するセンサがいろいろな装置に内蔵されて使われている。  \n",
    "　身近なセンサとして以下の様な例がある。\n",
    "\n",
    "|**使用例**|**センサの種類**|**センサの役割**|\n",
    "|:---|:---|:---|\n",
    "|冷蔵庫|温度センサ|冷蔵庫内の温度を検知する。|\n",
    "|エアコン|温度センサ・湿度センサ|室内の気温・湿度を検知する。|\n",
    "|煙感知器|煙センサ|煙を検知する。|\n",
    "|リモコン|赤外線センサ|赤外線による信号を検知する。|\n",
    "|自動車|超音波センサ，レーザー，レーダー等のセンサ|前方や後方の障害物を検知する。|\n",
    "|スマートフォン|加速度センサ|傾きや動きを検知する。|\n",
    "\n",
    "　また，アクチュエータはコンピュータが制御した情報を物理的に伝える装置であり，各種のモータなどが使われている。アクチュエータの動きは直進運動と回転運動に分けることができ，これらの動力源として，電気・油圧・空気圧がある。DC モータは車輪のように連続して回転させ，サーボモータはロボットの腕の関節のように，角度を指定して回転させる目的で使用する。身近なアクチュエータとして以下の様な例がある。\n",
    "\n",
    "|**使用例**|**アクチュエータの種類**|**アクチュエータの役割**|\n",
    "|:---|:---|:---|\n",
    "|ドローン|ブラシレスＤＣモーター|直流によって回転運動し，制御性に優れる。プロペラの回転数を変えることで姿勢を制御する。|\n",
    "|建設機械|油圧シリンダ|油圧によりシリンダ内のピストンを動かす。大出力が可能であり，クレーンやパワーショベルなどに使われる。|\n",
    "|ドア|空気圧シリンダ|構造がシンプルで安価である。空気を圧縮膨張させシリンダ内のピストンを動かし，ドアの開閉などを行う。|"
   ]
  },
  {
   "cell_type": "markdown",
   "metadata": {},
   "source": [
    "3. センサの値の取得とアクチュエータの制御の方法\n",
    "\n",
    "　一般的に，入力ポートに接続されたセンサの値を取得するには，ポートから入力した生（なま）のデータをセンサの特性に合わせてプログラム上で計算式によって温度などの物理量に変換する必要がある。同様に，出力ポートに接続されたアクチュエータを制御する場合も，計算式によってモーターの回転数などの物理量をポートに出力するデータに変換する必要がある。しかし，教育用プログラミング言語では，温度などの物理量を直接取得できる命令や，モータの回転数などの物理量を直接制御できる命令が用意されている場合があり，その場合は計算式による変換が不要になる。"
   ]
  },
  {
   "cell_type": "markdown",
   "metadata": {},
   "source": [
    "4. 中学校技術・家庭科技術分野との接続\n",
    "\n",
    "　平成 29 年に公示された中学校学習指導要領では，技術・家庭科技術分野「Ｄ情報の技術」（3）において，計測・制御のプログラミングによって解決する活動を通して，計測・制御システムの仕組みを理解し，安全・適切なプログラムの制作，動作の確認及びデバッグができること，などが示されている。図表 5 には中学校の計測・制御例で，ワンボード型のコンピュータとブロック，センサ，アクチュエータとビジュアルプログラミング言語を使ったロボットが示されている。このプログラムは，障害物までの距離を光センサで読み取り，設定値以下の場合にモータの回転を停止させるようになっている。高等学校「情報Ⅰ」では，このような中学校での学習を踏まえて指導することになる。"
   ]
  },
  {
   "cell_type": "markdown",
   "metadata": {},
   "source": [
    "5. センサの値をもとに LED を制御するプログラム\n",
    "\n",
    "　ここでは，イギリスで教育用に作られ，実践例が豊富にあり，各種のセンサと簡易な表示装置が内蔵され，多くのプログラミング言語で制御可能な外部機器として micro:bit を用い，センサ（加速度センサ）で得たデータに応じて LED を制御するプログラミングを行う。  \n",
    "　micro:bit を Python で動作させるオフライン環境のエディタとして，Mu がある。 micro:bit のオンラインエディタ MicroPython ドキュメントでは，標準開発環境よりも，この Mu を勧めている。MicroPython では，プログラムから変更された hex ファイルをコンピュータにダウンロードした後に micro:bit に転送するが，Mu では画面内の「転送」を押すだけで直接micro:bit に転送されるので便利である。Mu は Windows と Mac OS に対応している。Mu のインストールが難しい場合は，オンラインエディタ MicroPython の使用を推奨する。\n",
    "\n",
    "- Mu　　　　　　　　　https://codewith.mu　\n",
    "- Micro Python　　　　https://microbit.org/ja/guide/python/"
   ]
  },
  {
   "cell_type": "markdown",
   "metadata": {},
   "source": [
    "① 順次  \n",
    "　順次の例として，ここでは LED で○を１秒間点灯したあと消灯するプログラムを示す。\n",
    " \n",
    " [順次のプログラム](https://makecode.microbit.org/_5kV3411RdEf6)"
   ]
  },
  {
   "cell_type": "markdown",
   "metadata": {},
   "source": [
    "② 分岐  \n",
    "分岐の例として，micro:bit の加速度センサが右に傾いているデータを検出すれば，ＬＥＤに「R」が点灯し，そうでなければ LED に「-」が点灯するプログラムを示す。\n",
    "\n",
    "[分岐のプログラム](https://makecode.microbit.org/_dMp8YC0J5Xsa)"
   ]
  },
  {
   "cell_type": "markdown",
   "metadata": {},
   "source": [
    "③ 反復  \n",
    "反復の例として，0 から 9 までの数字を順に表示するプログラムを示す。  \n",
    "[反復のプログラム](https://makecode.microbit.org/_Djm8KuJqiACH)"
   ]
  },
  {
   "cell_type": "markdown",
   "metadata": {},
   "source": [
    "＜参考文献・参考サイト＞\n",
    "- 「はじめよう micro:bit」https://microbit.org/ja/guide/\n",
    "- 「Mu」https://codewith.mu　\n",
    "- 「Micro Python」https://microbit.org/ja/guide/python/"
   ]
  },
  {
   "cell_type": "markdown",
   "metadata": {},
   "source": [
    "# 基本的プログラム\n"
   ]
  },
  {
   "cell_type": "markdown",
   "metadata": {},
   "source": [
    "1. アルゴリズムとプログラミング\n",
    "\n",
    "　問題を解決するための方法や手順をアルゴリズムといい，アルゴリズムをコンピュータが実行できる形式であらわしたものをプログラムという。アルゴリズムは流れ図（フローチャート）などを用いて図式化するとわかりやすい。アルゴリズムはプログラミング言語を用いてプログラムにすることで，コンピュータに実行させることができる。"
   ]
  },
  {
   "cell_type": "markdown",
   "metadata": {},
   "source": [
    "2. 制御構造\n",
    "\n",
    "　どのようなアルゴリズムでも，処理の流れは，順次，分岐，反復の３つの構造の組み合わせで構成されている。このような処理の流れを制御構造という。\n",
    "- 順次　1 つ 1 つの処理を順番に行う\n",
    "- 分岐　ある条件に応じて異なる処理を実行する\n",
    "- 反復　ある条件が満たされている間はその処理を繰り返し実行する"
   ]
  },
  {
   "cell_type": "markdown",
   "metadata": {},
   "source": [
    "3. 流れ図（フローチャート）\n",
    "\n",
    "　流れ図を使って表現すると，処理の流れを視覚的に表現することが可能となる。制御構造を流れ図で表現するにあたり，各構造は図表１のようになり，３つの構造を組み合わせて流れ図を書くと，図表２のように表現する\n",
    "ことができる。\n",
    "\n",
    "- 順次<br>上から下へ記述された順に処理を実行する。処理 1 を実行した後に処理 2 を実行する。\n",
    "- 分岐<br>条件により処理を選択する。条件が真のときは処理 1 を実行し，偽のときは処理 2 を実行する。\n",
    "- 反復<br>処理を繰り返し実行する。条件が真の間，処理を繰り返し実行し，偽になるとループ終端の下にある処理を実行する。\n",
    "\n",
    "　アルゴリズムを表現する方法は多様である。ここでは，フローチャートを紹介したが，目的や内容に応じて適切なものを使い分けるようにしたい。\n",
    "\n",
    "※ UML（Unified Modeling Language）に含まれるアクティビティ図やシーケンス図のように，複数の処理が互いに通信しながら動作を進める様子を表現できる表記法も利用されている。"
   ]
  },
  {
   "cell_type": "markdown",
   "metadata": {},
   "source": [
    "4. 制御構造のプログラム例\n",
    "\n",
    "　本学習では分岐についてプログラムのコードを書く。この節で使用する関数等の説明は以下の図表 4 に示す。\n",
    "\n",
    "|**関数等**|**機能**|\n",
    "|---|---|\n",
    "|print(\" 文字列 \")|文字列を表示する。|\n",
    "|if 条件 : 処理１　　else: 処理２|条件が真の場合は処理１を実行し，偽の場合は処理２を実行する。|\n",
    "|for 変数 in range( 値 1, 値 2, 増減値 ): 処理|変数の値を値 1 から値 2 の１つ前まで増減値の幅で変化させながら処理を繰り返す。|"
   ]
  },
  {
   "cell_type": "markdown",
   "metadata": {},
   "source": [
    "- 順次の例\n",
    "\n",
    "今回の例では「おはよう」「こんにちは」「おやすみ」の順に画面にメッセージが表示されるプログラムを作成するものとする。流れ図は以下の図表 5 の通りになり，プログラミングの処理を日本語で記述したリストは図表6 の通りになる。\n",
    "\n",
    "```\n",
    "1：“ おはよう ” と画面に表示\n",
    "2：“ こんにちは ” と画面に表示\n",
    "3：“ おやすみ ” と画面に表示\n",
    "図表 6　日本語記述\n",
    "```\n",
    "\n",
    "　図表 5 の流れ図，図表 6 の日本語記述をコードに置き換えたのが図表 7 である。処理は上の行から下の行の順に処理が進められる。"
   ]
  },
  {
   "cell_type": "code",
   "execution_count": 9,
   "metadata": {},
   "outputs": [
    {
     "name": "stdout",
     "output_type": "stream",
     "text": [
      " おはよう \n",
      " こんにちは \n",
      " おやすみ \n"
     ]
    }
   ],
   "source": [
    "print(\" おはよう \") #「おはよう」と画面表示する\n",
    "print(\" こんにちは \") #「こんにちは」と画面表示する\n",
    "print(\" おやすみ \") #「おやすみ」と画面表示する"
   ]
  },
  {
   "cell_type": "markdown",
   "metadata": {},
   "source": [
    "- 分岐の例\n",
    "\n",
    "　点数 x が 60 点以上ならば，「合格」を表示し，そうでなければ「不合格」を表示するプログラムを作成するものとする。流れ図は以下の図表 8 の通りになり，プログラミングの処理を日本語で記述したリストは図表 9 の通りになる。ただし x の値は 80 とする。\n",
    "\n",
    "```\n",
    "1：x =80 とする。\n",
    "2：もし x >= 60 ならば「合格」とする。\n",
    "3：それ以外の場合は「不合格」と表示する。\n",
    "図表 9　日本語記述\n",
    "```\n",
    "\n",
    "図表 8 の流れ図，図表 9 の日本語記述をコードに置き換えたのが図表 10 である。今回の例では x=80 であるので，x>=60 の条件を満たし，「合格」と表示がされる。このように分岐の場合は『「合格」と表示する処理』と『「不合格」と表示する処理』は同時に実行されることがないことに留意が必要である。"
   ]
  },
  {
   "cell_type": "code",
   "execution_count": 10,
   "metadata": {},
   "outputs": [
    {
     "name": "stdout",
     "output_type": "stream",
     "text": [
      " 合格 \n"
     ]
    }
   ],
   "source": [
    "x = 80 #x=80 とする\n",
    "if x >= 60: #x が 60 以上のときの処理\n",
    " print(\" 合格 \")\n",
    "else: #x が 60 以上でないときの処理\n",
    " print(\" 不合格 \")"
   ]
  },
  {
   "cell_type": "markdown",
   "metadata": {},
   "source": [
    "- 反復の例\n",
    "\n",
    "　変数 x に対して 10 を 5 回加算をしながらその都度 x の値を表示するプログラムを作成するものとする。流れ図は以下の図表 11 の通りになり，プログラムの処理を日本語で記述したリストは図表 12 の通りになる。ただしx の初期値は 0 とする。\n",
    "\n",
    "```\n",
    "1：x =0 とする。\n",
    "2：i=0,1,2,3,4,とカウントを進めながら以下の処理を行う。\n",
    "  2-1：x に 10 を加える。\n",
    "  2-2：x の値を表示する\n",
    "図表 12　日本語記述　\n",
    "```\n",
    "\n",
    "　図表 11 の流れ図，図表 12 の日本語記述をコードに置き換えたのが図表 13 である。  \n",
    "　i in range（1,6,1）を示す値は 1 ≦ i ＜ 6 となることに留意する必要がある。今回の例では 10 を５回加えるので，最終的な x の値は 50 となる。また，カウントのための変数 i をプログラムの中で使用することも可能であり，『繰り返している回数をその都度表示する』といった処理も行うことができる。"
   ]
  },
  {
   "cell_type": "code",
   "execution_count": 11,
   "metadata": {},
   "outputs": [
    {
     "name": "stdout",
     "output_type": "stream",
     "text": [
      "x =  0\n",
      "x =  10\n",
      "x =  20\n",
      "x =  30\n",
      "x =  40\n",
      "x =  50\n"
     ]
    }
   ],
   "source": [
    "x = 0\n",
    "print(\"x = \" , x)\n",
    "for i in range(1, 6, 1): #1 から 6 未満の間 1 ずつカウントを増やしながら繰り返す\n",
    " x = x + 10\n",
    " print(\"x = \" , x)"
   ]
  },
  {
   "cell_type": "markdown",
   "metadata": {},
   "source": [
    "- 分岐と反復を組み合わせた例\n",
    "\n",
    "　分岐と反復を組み合わせると，「繰り返していく中である条件を満たす場合だけ特定の処理を行う」ことが可能となり，アルゴリズムの表現の幅を広げることができる。\n",
    "　ここでは変数 x に対して 10 を ５回加算をするが，『繰り返している回数が奇数回の場合だけ』 x の値を表示するプログラムを作成するものとする。流れ図は以下の図表 14 の通りになり，プログラムの処理を日本語で記述したリストは図表 15 の通りになる。ただし x の初期値は 0 とし，奇数であることを判定する式は 2 で割った余りが 1 であることを示す「i%2==1」を使用するものとする。  \n",
    "\n",
    "```\n",
    "1：x =0 とする。\n",
    "2：i=0,1,2,3,4,5 とカウントを進めながら以下の処理を繰り返し行う。\n",
    "  2-1：x に 10 を加える。\n",
    "  2-2：もし i%2==1 ならば x の値を表示する。\n",
    "図表 14　日本語記述　\n",
    "```\n",
    "\n",
    "　図表 14 の流れ図，図表 15 の日本語記述をコードに置き換えたのが図表 16 である。今回の例では 10 を５回加えるが，i が奇数の時だけ x の値を表示しているので，x = 10,30,50 の場合だけ値が画面に表示される。"
   ]
  },
  {
   "cell_type": "code",
   "execution_count": 13,
   "metadata": {},
   "outputs": [
    {
     "name": "stdout",
     "output_type": "stream",
     "text": [
      "x =  0\n",
      "x =  10\n",
      "x =  30\n",
      "x =  50\n"
     ]
    }
   ],
   "source": [
    "x = 0\n",
    "print(\"x = \" , x)\n",
    "for i in range(1, 6, 1):\n",
    "  x = x + 10\n",
    "  if i%2==1: #i を 2 で割ったときの余りが 1 のとき\n",
    "    print(\"x = \" , x)"
   ]
  },
  {
   "cell_type": "markdown",
   "metadata": {},
   "source": [
    "# 応用的プログラム"
   ]
  },
  {
   "cell_type": "markdown",
   "metadata": {},
   "source": [
    "1. リスト\n",
    "\n",
    "　プログラムは，変数にデータを代入したり，参照したりすることを繰り返しながら動作しているが，複雑なプログラムになってくると，変数名の異なる変数が多くなり，取り扱いが困難になるため，リストが使われることが多い。リストは複数の値を一つの名前（変数名）と番号（添字）によって管理する仕組みである。これを使うと同じデータ型の変数を複数宣言する必要がなくなるため，簡潔にプログラムを記述することができるようになる。そのリストの中にあるひとつひとつの変数を要素といい，要素に付けられた番号を添字という。  \n",
    "　リストの値の参照やリストへの値の代入は，リスト名と添字を使って，「リスト名 [ 添字 ]」として扱うことが多い。添字を変数で指定することで，その値を変えることで要素を自由に扱うことができる。\n",
    " \n",
    "|||||||||||\n",
    "|---|---|---|---|---|---|---|---|---|---|\n",
    "|a[0]|a[1]|a[2]|a[3]|a[4]|a[5]|a[6]|a[7]|a[8]|a[9]|\n",
    "|56|3|62|17|87|22|36|83|21|12|\n"
   ]
  },
  {
   "cell_type": "markdown",
   "metadata": {},
   "source": [
    "- リストを用いたプログラムの例\n",
    "\n",
    "　10 個の数値からなるリストがあったときに，リスト内の数値の一部を取り出し，足し算するプログラムを以下の図表２に示す。  \n",
    "　Python ではリストは 0 番目から始まることに留意する必要がある。このプログラム例ではリスト a の 3 番目と 7 番目の数値を足し算している。a[3]=17，a[7]=83 であるので，足し算の結果は 100 が表示される。"
   ]
  },
  {
   "cell_type": "code",
   "execution_count": 6,
   "metadata": {},
   "outputs": [
    {
     "name": "stdout",
     "output_type": "stream",
     "text": [
      "100\n"
     ]
    }
   ],
   "source": [
    "### 図表 2　リストを用いたプログラムの例 1\n",
    "a=[56,3,62,17,87,22,36,83,21,12] # リスト a の定義\n",
    "goukei = 0\n",
    "goukei = a[3]+a[7]\n",
    "print(goukei)"
   ]
  },
  {
   "cell_type": "markdown",
   "metadata": {},
   "source": [
    "　次は 10 個の数値からなるリストがあったときに，リスト内の数値の合計を求めるプログラムを以下の図表３に示す。  \n",
    "　このプログラムの実行結果は goukei=56+3+62+17+87+22+36+83+21+12=399 となる。なお a[i] で i の値が変化するたびにリスト内を巡回していることに留意すること。"
   ]
  },
  {
   "cell_type": "code",
   "execution_count": 5,
   "metadata": {},
   "outputs": [
    {
     "name": "stdout",
     "output_type": "stream",
     "text": [
      "399\n"
     ]
    }
   ],
   "source": [
    "### 図表 3　リストを用いたプログラムの例 2\n",
    "a=[56,3,62,17,87,22,36,83,21,12]\n",
    "goukei = 0\n",
    "for i in range(0,10,1):\n",
    " goukei = goukei+a[i] #a[0] ～ a[9] まで全て加えていく\n",
    "print(goukei)"
   ]
  },
  {
   "cell_type": "markdown",
   "metadata": {},
   "source": [
    "2. 乱数\n",
    "\n",
    "　ある一定の範囲内において，すべての数が同じ確率で現れるような数のことを乱数という。コンピュータはその特質上計算で値を生成するので計算による擬似的な乱数しか生成できない。これを擬似乱数（以後「乱数」と表現する）という。  \n",
    "この乱数をプログラム内で用いることにより，実行するたびに処理内容が変わるような変則的なプログラムを作成することが可能となり，プログラムを現実世界のシミュレーションなどに活用することが可能となる。"
   ]
  },
  {
   "cell_type": "markdown",
   "metadata": {},
   "source": [
    "- 乱数を用いたプログラムの例\n",
    "\n",
    "　ある値 a があるときに，0 ～ 9 までの数をランダムに発生させる乱数 r と比較して，大きい場合に「a の方が大きい」，小さい場合に「a の方が小さい」，等しい場合に「当たり」と表示するプログラムを図表４に示す。  \n",
    "　Python で乱数を扱う場合は random モジュールを import 文で読み込む必要があり，「random.randrange(10)」で 0 ～ 9 の 10 個の整数をランダムに発生させる乱数として表現している。"
   ]
  },
  {
   "cell_type": "code",
   "execution_count": 3,
   "metadata": {},
   "outputs": [
    {
     "name": "stdout",
     "output_type": "stream",
     "text": [
      "a の方が大きい \n"
     ]
    }
   ],
   "source": [
    "# 図表 4　乱数を用いたプログラムの例 1\n",
    "import random #random モジュールを読み込む\n",
    "a = 5\n",
    "r = random.randrange(10) #0 ～ 9 までの整数をランダムに発生\n",
    "if a==r:\n",
    " print(\" 当たり \")\n",
    "elif a>r:\n",
    " print(\"a の方が大きい \")\n",
    "elif a<r:\n",
    " print(\"a の方が小さい \")"
   ]
  },
  {
   "cell_type": "markdown",
   "metadata": {},
   "source": [
    "　また，乱数の生成の範囲を「0 から」ではなく「1 から」に変更したい場合も少なからずある。このような場合は生成した乱数に対して 1 を加えることで，生成した乱数に対して一律に計算がなされるので，0 ～ 9 の範囲を1 ～ 10 の範囲に変更することが可能となる。  \n",
    "　以下の図表５は「1 ～ 10」までの乱数を表示するプログラムのコードである。「random.randrange(10)+1」とすることにより「0 ～ 9」から「1 ～ 10」に変更することが可能となる。"
   ]
  },
  {
   "cell_type": "code",
   "execution_count": 7,
   "metadata": {},
   "outputs": [
    {
     "name": "stdout",
     "output_type": "stream",
     "text": [
      "7\n"
     ]
    }
   ],
   "source": [
    "### 図表 5　乱数を用いたプログラムの例 2\n",
    "import random\n",
    "r = random.randrange(10)+1\n",
    "print(r)"
   ]
  },
  {
   "cell_type": "markdown",
   "metadata": {},
   "source": [
    "3. 関数\n",
    "\n",
    "　一般にシステム開発などで行われるプログラムは大規模なので，コードの長さも膨大となる。このような場合，文章の章，節，段落のような適切な構造を作らないと，コードの可読性は著しく低くなってしまう。  \n",
    "　そこでプログラムの機能ごとにメインコードから切り離し，関数という単位で分割することで，プログラムを機能ごとに整理，構造化することが可能となる。また，作成した関数はメインコード内で何回でも呼び出すことが可能となるため，作成した機能を再利用することが可能となる。  \n",
    "　数学での関数は y=f(x) のように表現されるが，コンピュータプログラムの関数では x を引数（ひきすう），y を戻り値と呼んでいる。（図表６参照）  \n",
    "　実際に関数で分割するときには「どのような処理を行っているか」と同時に，引数（処理に必要なデータは何であるか），戻り値（処理結果のデータは何であるか）を把握する必要がある。（図表７参照）\n",
    "\n",
    "#### ■関数で分割したプログラムの例\n",
    "　図表３のコードを関数に分割することを考える。関数の処理と引数と戻り値は次の通りになる。（図表８参照）\n",
    "\n",
    "　関数に分割した後のコードは以下の図表９である。  \n",
    "　Python で関数を扱う場合は def 文を使う。この例では「def listgoukei(a)」で listgoukei という関数で引数 aとして定義しており，リスト a の長さは事前にわからないことが多いので，「len(a)」でリスト a の大きさを調べている。また，戻り値は return で指定する。この関数を使用するには「goukei = listgoukei(a)」としておくと，a を引数として処理結果が goukei に代入される。"
   ]
  },
  {
   "cell_type": "code",
   "execution_count": 20,
   "metadata": {},
   "outputs": [
    {
     "name": "stdout",
     "output_type": "stream",
     "text": [
      "399\n"
     ]
    }
   ],
   "source": [
    "### 図表 9　関数で分割したプログラムの例\n",
    "def listgoukei(a): # 合計を求める関数 listgoukei を作成\n",
    " goukei = 0\n",
    " for i in range(0,len(a),1):\n",
    "  goukei = goukei+a[i]\n",
    " return goukei\n",
    "a = [56,3,62,17,87,22,36,83,21,12]\n",
    "goukei = listgoukei(a) # 作った関数 listgoukei を呼び出し\n",
    "print(goukei)"
   ]
  },
  {
   "cell_type": "markdown",
   "metadata": {},
   "source": [
    "4. WebAPI\n",
    "\n",
    "　一般にシステム開発では作成するプログラムは大規模なので，コードの長さも膨大となり，開発期間もその分大きくかかる。だが，多くのシステムでは「ボタンを押したらウィンドウが開く」や「ボタンを押したらファイルが保存される」処理について共通していることが多い。共通している処理についてAPI(Application Program Interface) として関数に近い形で提供されている。この API を使って開発することで，開発期間の短縮につながる。インターネット上のサービスやビッグデータへの Web の通信を利用したアクセス機能を提供している API をWebAPI といい，現在のシステム開発において利用されている。（図表 10 参照）"
   ]
  },
  {
   "cell_type": "markdown",
   "metadata": {},
   "source": [
    "#### WebAPI を利用したプログラムの例\n",
    "\n",
    "WebAPI を利用し，郵便番号からそれに対応する住所を表示するプログラムを図表 11 に示す。\n",
    "なお必要なサービスやデータと引数と戻り値は次の通りである。\n",
    "\n",
    "- 必要なサービスやデータ：郵便番号に係わるデータ\n",
    "- 引数：郵便番号\n",
    "- 戻り値：郵便番号に対応する住所\n",
    "\n",
    "\n",
    "　Python で WebAPI を扱う場合は OS のコマンドプロンプトを起動し，`pip install requests` と入力して requestsモジュールをインストールし，requests モジュールと json モジュールを import 文で取り込む必要がある。また，この例で使用する WebAPI は「 http://zipcloud.ibsnet.co.jp/ 」が提供するものである。この例では指定する郵便番号を「`param = {\"zipcode\": \"100-0013\"}`」で郵便番号 100-0013 を指定している。なお，実行結果は「東京都\n",
    "千代田区霞が関」と表示される。"
   ]
  },
  {
   "cell_type": "code",
   "execution_count": 8,
   "metadata": {},
   "outputs": [
    {
     "name": "stdout",
     "output_type": "stream",
     "text": [
      "東京都千代田区霞が関\n"
     ]
    }
   ],
   "source": [
    "### 図表 11　WebAPI を用いたプログラムの例\n",
    "import requests\n",
    "import json\n",
    "url = \"http://zipcloud.ibsnet.co.jp/api/search\" # 使用する WebAPI の URL\n",
    "param = {\"zipcode\": \"100-0013\"} #WebAPI の引数\n",
    "res = requests.get(url,params=param) #WebAPI の戻り値が res へ\n",
    "response = json.loads(res.text)\n",
    "address = response[\"results\"][0]\n",
    "print(address[\"address1\"] + address[\"address2\"] + address[\"address3\"])"
   ]
  },
  {
   "cell_type": "markdown",
   "metadata": {},
   "source": [
    "# アルゴリズムの比較 "
   ]
  },
  {
   "cell_type": "markdown",
   "metadata": {},
   "source": [
    "1. 探索アルゴリズム　線形探索と二分探索\n",
    "\n",
    "　リストなどの中から必要なデータを探し出すことを探索といい，線形探索や二分探索などがある。"
   ]
  },
  {
   "cell_type": "markdown",
   "metadata": {},
   "source": [
    "#### 線形探索\n",
    "\n",
    "線形探索はリストを先頭から順に比較しながら探索値に一致するデータを探し出す探索方法である。探索値とリスト内のデータを先頭\n",
    "から順番に比較していき，一致したデータがあれば，その場所（リストの添字）を表示する。図表 1 のような 7 個のデータ a[0] ～ a[6] があり，探索値が「82」であるとする。右のフローチャートでは下記の①～③のように，図表１の左側から順に探索値の「82」と比較していくことになる。\n",
    "\n",
    "|||||||||\n",
    "|---|---|---|---|---|---|---|---|\n",
    "|リストの要素|a[0]|a[1]|a[2]|a[3]|a[4]|a[5]|a[6]|\n",
    "|データ|61|15|82|77|21|32|53|\n",
    "\n",
    "1. a[0] の「61」と探索値「82」を比較し，異なるので次に進む。\n",
    "2. a[1] の「15」と探索値「82」を比較し，異なるので次に進む。\n",
    "3. a[2] の「82」と探索値「82」を比較し，一致するので a[2] にあることがわかる。"
   ]
  },
  {
   "cell_type": "markdown",
   "metadata": {},
   "source": [
    "#### プログラム例\n",
    "\n",
    "コード例を以下の図表３に示す。a は探索対象のリストであり，p は探索値である。"
   ]
  },
  {
   "cell_type": "code",
   "execution_count": 25,
   "metadata": {},
   "outputs": [
    {
     "name": "stdout",
     "output_type": "stream",
     "text": [
      " 見つかりました \n"
     ]
    }
   ],
   "source": [
    "### 図表３　コード\n",
    "def linsearch(a,p):\n",
    " for i in range(0,len(a),1):\n",
    "  if a[i]==p:\n",
    "   print(\" 見つかりました \")\n",
    "   break\n",
    "a = [61,15,82,77,21,32,53]\n",
    "p = 82\n",
    "linsearch(a,p)"
   ]
  },
  {
   "cell_type": "markdown",
   "metadata": {},
   "source": [
    "#### 二分探索\n",
    "\n",
    "リストの中から探索範囲を半分ずつ狭めながら目的のデータを探し出す探索方法である。  \n",
    "ここでは 7 個のデータ a[0] ～ a[6] があり昇順にソートされており，探索値が「43」であるとする。\n",
    "\n",
    "|||||||||\n",
    "|---|---|---|---|---|---|---|---|\n",
    "|リストの要素|a[0]|a[1]|a[2]|a[3]|a[4]|a[5]|a[6]|\n",
    "|データ|25|33|43|51|66|71|88|\n",
    "\n",
    "1. 中央値＞探索値より，上限添字の入れ替え<br>\n",
    "まず，探索範囲の中央を求める。リストの下限は a[0]，上限は a[6]なので，中央は「（下限添字＋上限添字）÷２=(0+6) ÷ 2=3」のように求められる。従って，探索範囲の中央にある a[3] のデータ「51」と探索値「43」を比較する。  \n",
    "「43」は a[3] の「51」より小さいので，探索範囲は a[0] ～ a[2] に絞られる。\n",
    "\n",
    "2. 中央値＜探索値より，下限添字の入れ替え<br>\n",
    "新たな探索範囲の下限は a[0]，上限は a[2] なので中央は「$(0+2)÷2=1$」のように求められる。従って，a[1] のデータ「33」と探索値「43」を比較する。  \n",
    "「43」は a[1] の「33」より大きいので，探索範囲は a[2] に絞られるため，下限添字を中央添字の「1」を 1 つ増やした値の「2」に変更する。\n",
    "\n",
    "3. 中央値＝探索値より，検索終了<br>　\n",
    "新たな探索範囲の下限は a[2]，上限は a[2] なので中央は「$(2+2)÷2=2$」である。a[2] のデータ「43」と「43」を比較する。「43」は a[2]の「43」と一致するので，「43」が a[2] にあることが分かる。  \n",
    "\n",
    "※人間であれば，下限が a[2] で上限が a[2] であれば，探索値が a[2]であることは当たり前に感じる。しかし，コンピュータは，定められたアルゴリズムによって動くため，下限と上限が一致するということは中央値もそれと一致するということにしかならない。アルゴリズムに従って，次のステップで中央値と探索値が一致して，探索が完了する。"
   ]
  },
  {
   "cell_type": "markdown",
   "metadata": {},
   "source": [
    "#### プログラム例\n",
    "コード例を以下の図表６に示す。a は探索対象のリストであり，p は探索値である。"
   ]
  },
  {
   "cell_type": "code",
   "execution_count": 9,
   "metadata": {},
   "outputs": [
    {
     "name": "stdout",
     "output_type": "stream",
     "text": [
      " 見つかりました \n"
     ]
    }
   ],
   "source": [
    "### 図表６　コード\n",
    "def binsearch(a,p):\n",
    " i = 0\n",
    " j = len(a)-1\n",
    " while i<=j:\n",
    "  m = int((i+j)/2)\n",
    "  if a[m]==p:\n",
    "   print(\" 見つかりました \")\n",
    "   break\n",
    "  else:\n",
    "   if a[m]>p:\n",
    "    j=m-1\n",
    "   else:\n",
    "    i=m+1\n",
    "a = [25,33,43,51,66,71,88]\n",
    "p = 43\n",
    "binsearch(a,p)"
   ]
  },
  {
   "cell_type": "markdown",
   "metadata": {},
   "source": [
    "#### 線形探索と二分探索の比較\n",
    "\n",
    "　左側から探索を行う線形探索においては探索値が左端にあるか，右端にあるかによって探索回数が大きく変わり，1 回の探索で見つかる場合もあれば，全てのデータを探索する場合も出てくるので，一般的にデータ数が多い場合は線形探索では時間がかかることが多い。  \n",
    "　二分探索の場合は１回の探索で見つからなかった場合でも探索範囲をデータ数の半分に絞ることができるので，線形探索と比較すると，データ数が大きくなっても探索にかかる時間はそれほど増加しない場合が多い。  \n",
    "　最大探索回数だけを比較すると，回数の少ない二分探索がよいアルゴリズムと考えがちだが，二分探索には事前にデータを並べ替えておく必要があり，一概によいアルゴリズムとは言い切れない。例えば「事前にデータが並び替えられている保証がない場合」や「データの数がそれほど多くなく，シンプルなアルゴリズムの方が望ましい場合」などは線形探索の方が有用な場合もある。"
   ]
  },
  {
   "cell_type": "markdown",
   "metadata": {},
   "source": [
    "2. ソートアルゴリズム　選択ソートとクイックソート\n",
    "\n",
    "リストなどの中を昇順，降順に並べ替えることをソートといい，選択ソートやクイックソートなどがある。"
   ]
  },
  {
   "cell_type": "markdown",
   "metadata": {},
   "source": [
    "#### 選択ソート\n",
    "\n",
    "　選択ソートはリスト内のデータから最小値を探索し，最小値から順に取り出すことで並べ替えを実現するアルゴリズムである。（図表８参照）"
   ]
  },
  {
   "cell_type": "markdown",
   "metadata": {},
   "source": [
    "#### プログラム例\n",
    "\n",
    "　コード例を以下の図表９に示す。a はソート対象のリストである。なお a[i] と a[j] の値を入れ替える際には変数 temp を使って以下のように行っている。\n",
    "\n",
    "1. a[i]の値を一時的にtempに入れておく（temp=a[i]）\n",
    "2. a[i]の値をa[j]の値に置き換える（a[i]=a[j]）\n",
    "3. a[j]の値をtempの値に置き換える（a[j]=temp）"
   ]
  },
  {
   "cell_type": "code",
   "execution_count": 10,
   "metadata": {},
   "outputs": [
    {
     "name": "stdout",
     "output_type": "stream",
     "text": [
      " ソート前  [7, 22, 11, 34, 17, 52, 26, 13, 40, 20, 10, 5, 16, 8, 4, 2, 1]\n",
      " ソート後  [1, 2, 4, 5, 7, 8, 10, 11, 13, 16, 17, 20, 22, 26, 34, 40, 52]\n"
     ]
    }
   ],
   "source": [
    "### 図表９　コード\n",
    "def selectionsort(a):\n",
    " for i in range(0,len(a),1):\n",
    "  for j in range(i+1,len(a),1):\n",
    "   if a[j]<a[i]:\n",
    "    temp = a[i]\n",
    "    a[i] = a[j]\n",
    "    a[j] = temp\n",
    "a = [7,22,11,34,17,52,26,13,40,20,10,5,16,8,4,2,1]\n",
    "print(\" ソート前 \",a)\n",
    "selectionsort(a)\n",
    "print(\" ソート後 \",a)"
   ]
  },
  {
   "cell_type": "markdown",
   "metadata": {},
   "source": [
    "#### クイックソート\n",
    "\n",
    "　クイックソートはリスト内の一つのデータを軸として，大小２つに分割した後，分割したデータに対して同じ処理を再度行うことにより並べ替えを実現するアルゴリズムである。（図表 10 参照）図表 10 では 27 と比較して分割した後，小さい方をさらに 6 と比較して分割している。"
   ]
  },
  {
   "cell_type": "markdown",
   "metadata": {},
   "source": [
    "#### プログラム例\n",
    "コード例を以下の図表 11 に示す。a はソート対象のリストである。"
   ]
  },
  {
   "cell_type": "code",
   "execution_count": 30,
   "metadata": {},
   "outputs": [
    {
     "name": "stdout",
     "output_type": "stream",
     "text": [
      " ソート前  [7, 22, 11, 34, 17, 52, 26, 13, 40, 20, 10, 5, 16, 8, 4, 2, 1]\n",
      " ソート後  [1, 2, 4, 5, 7, 8, 10, 11, 13, 16, 17, 20, 22, 26, 34, 40, 52]\n"
     ]
    }
   ],
   "source": [
    "### 図表 11　コード\n",
    "def quicksort(a,start,end):\n",
    " m = int((start+end)/2)\n",
    " i = start\n",
    " j = end\n",
    " while(i<j):\n",
    "  while a[i] < a[m]:\n",
    "   i = i+1\n",
    "  while a[j] > a[m]:\n",
    "   j = j-1\n",
    "  if i>=j:\n",
    "   break\n",
    "  temp = a[i]\n",
    "  a[i] = a[j]\n",
    "  a[j] = temp\n",
    "  if i==m:\n",
    "   m = j\n",
    "  elif j==m:\n",
    "   m = i\n",
    "  i = i+1\n",
    "  j = j-1\n",
    " if start < i-1:\n",
    "  quicksort(a,start,m-1)\n",
    " if end > j+1:\n",
    "  quicksort(a,m+1,end)\n",
    "a = [7,22,11,34,17,52,26,13,40,20,10,5,16,8,4,2,1]\n",
    "print(\" ソート前 \",a)\n",
    "quicksort(a,0,len(a)-1)\n",
    "print(\" ソート後 \",a)"
   ]
  },
  {
   "cell_type": "markdown",
   "metadata": {},
   "source": [
    "3. 選択ソートとクイックソートの比較\n",
    "\n",
    "　データ数が N 個の場合，選択ソートにおいては「複数の要素から最小値を探す」処理を N-1 回行うことになる。  \n",
    "したがってデータ数が大きくなればなるほど「最小値を探す」処理の回数が膨大になり，処理に必要な時間が多くなりやすい。  \n",
    "　それに対してクイックソートでは基準値を元に２分割しながら並べ替えの処理を行うので，二分探索と同じようにデータ数が大きくなっても処理の回数が膨大になりにくい。  \n",
    "　しかしながら，クイックソートでは逆順に並べ替えられている場合など，ある条件下では比較を行う回数が膨大になり，選択ソートよりも処理に必要な時間が多くなることもある。  \n",
    "　ソートアルゴリズムの場合においても，必ずしもクイックソートの方が優れたアルゴリズムであるとは言い切れないことがわかる。"
   ]
  },
  {
   "cell_type": "markdown",
   "metadata": {},
   "source": [
    "# 確定モデルと確率モデル "
   ]
  },
  {
   "cell_type": "markdown",
   "metadata": {},
   "source": [
    "1. モデル化とシミュレーション\n",
    "\n",
    "　モデルとは，事物や現象の本質的な形状や法則性を抽象化して，より単純化したものを指す言葉であり，事物や現象のモデルを作ることをモデル化と呼ぶ。  \n",
    "　妥当性の高いモデル化ができれば，これを使って実際には行う事が困難な実験を計算だけで行なったり，複雑な現象を再現したりするための手段としても活用できる。  \n",
    "　モデルを使って実際にどのような現象が起こるのかを予測する事を一般にシミュレーションと呼んでいる。シミュレーションを行う際に活用されるのがプログラミング言語や表計算ソフトウェア，シミュレーションソフトウェアなどである。  \n",
    "　モデルは，表現形式や対象の特徴によって分類することができる。静的モデルは，プラスチックモデルや建築図面などのように時間的要素を含まないもので，動的モデルはレジの待ち行列や，気象予測，生物の成長など，時間的要素を含んだ事象のモデルである。また，確定モデルは不規則な現象を含まず，方程式などで表せるモデルであり，確率モデルはサイコロやクジ引きのような不規則な現象を含んだモデルである。  "
   ]
  },
  {
   "cell_type": "markdown",
   "metadata": {},
   "source": [
    "2. 確定モデルのシミュレーション\n",
    "\n",
    "ここでは，確定モデルの例として，複利法による預金金額の時間的変化を考える。  \n",
    "複利法は元金に利息を加算し，それを次の期間の元金として利息を計算していく方法である。  \n",
    "法則が一定のものは簡単に数式に表すことができる。数式に表す事もモデル化である。  \n",
    "\n",
    "- 複利法の数式モデル<br>\n",
    "　　　　次期の金額＝現在の金額＋利息  \n",
    "　　　　利息＝現在の金額×利率×時間間隔\n",
    "\n",
    "この数式モデルをプログラムに置き換えて 10 年間の預金額の変化を計算すると，次のようになる。"
   ]
  },
  {
   "cell_type": "code",
   "execution_count": 11,
   "metadata": {},
   "outputs": [
    {
     "name": "stdout",
     "output_type": "stream",
     "text": [
      "1  年目 : 105000.0\n",
      "2  年目 : 110250.0\n",
      "3  年目 : 115762.5\n",
      "4  年目 : 121550.625\n",
      "5  年目 : 127628.15625\n",
      "6  年目 : 134009.5640625\n",
      "7  年目 : 140710.042265625\n",
      "8  年目 : 147745.54437890626\n",
      "9  年目 : 155132.82159785158\n",
      "10  年目 : 162889.46267774416\n"
     ]
    }
   ],
   "source": [
    "### 図表 3　預金の複利計算のプログラム\n",
    "yokin = 100000 # 預金\n",
    "riritsu = 0.05 # 利率\n",
    "for i in range(10): #i の値を 0 から 9 まで 10 回繰り返す\n",
    " risoku = yokin*riritsu # その年の利息\n",
    " yokin = yokin + risoku # 預金に利息を加える\n",
    " print(i+1,\" 年目 :\",yokin) # 画面に表示"
   ]
  },
  {
   "cell_type": "markdown",
   "metadata": {},
   "source": [
    "この実行結果から，５％の利率の場合には９年ほどで１．５倍になることがわかる。  \n",
    "さらにこの数式モデルの計算結果をわかりやすく評価するため，グラフで表示する。  \n",
    "グラフ表示のために，ここでは Python の標準的なライブラリ matplotlib を用いる。  \n",
    "グラフ化する際には，グラフの表題と各軸の単位などのラベル表示をしておく。"
   ]
  },
  {
   "cell_type": "code",
   "execution_count": 12,
   "metadata": {},
   "outputs": [
    {
     "data": {
      "image/png": "[encoded data removed]",
      "text/plain": [
       "<Figure size 432x288 with 1 Axes>"
      ]
     },
     "metadata": {
      "needs_background": "light"
     },
     "output_type": "display_data"
    }
   ],
   "source": [
    "### 図表 5　グラフ化のプログラム\n",
    "\n",
    "%matplotlib inline\n",
    "import matplotlib.pyplot as plt # プロットオブジェクトをインポート\n",
    "riritsu = 0.05 # 利率\n",
    "yokin = [100000] # 預金配列の最初の値は 10 万\n",
    "for i in range(10): #i の値を 0 〜 9 まで、10 回繰り返す\n",
    " risoku = int(yokin[i]*riritsu) # 利息は現在の預金額 × 利率 ( 整数化 )\n",
    " yokin.append(yokin[i]+risoku) # 配列に計算結果を追加\n",
    "plt.title(\"FUKURI KEISAN\") # グラフのタイトル\n",
    "plt.xlabel(\"Year\") #X 軸のラベル\n",
    "plt.ylabel(\"Yokin[YEN]\") #Y 軸のラベル\n",
    "plt.plot(yokin, marker=\"o\") # グラフをプロット\n",
    "plt.show() # プロットオブジェクトを表示"
   ]
  },
  {
   "cell_type": "markdown",
   "metadata": {},
   "source": [
    "3. 確率モデルのシミュレーション\n",
    "\n",
    "　ここでは，サイコロの目の出方について，その傾向をとらえるためのモデル化とシミュレーションについて考えてみる。  \n",
    "　６面体のサイコロは各面積が等しく，振り方に偏りが無ければ，目の出方は各面が６分の１の確率で出現するはずである。まず実際のサイコロを使って各目の出現確率を算出してみる。\n",
    "\n",
    "　コンピュータ言語には，このような一様乱数を発生させるための関数が標準的な機能として提供されている。  \n",
    "一般的には指定した区間の中から一様にランダムな値（一様乱数）を得られる関数となっている。次のプログラムは一様乱数を発生させて表示する。"
   ]
  },
  {
   "cell_type": "code",
   "execution_count": 34,
   "metadata": {},
   "outputs": [
    {
     "name": "stdout",
     "output_type": "stream",
     "text": [
      " 乱数  0.5035396397454391\n"
     ]
    }
   ],
   "source": [
    "### 図表 7　乱数発生のプログラム\n",
    "import numpy.random as rd # 乱数を発生させる関数の呼び出し\n",
    "ransuu = rd.rand() #0 〜 1 の乱数を 1 個生成\n",
    "print(\" 乱数 \", ransuu) # 乱数の値を表示"
   ]
  },
  {
   "cell_type": "markdown",
   "metadata": {},
   "source": [
    "　プログラムを実行すると，０～１の範囲で実行する度に異なった結果が得られることが確認できる。このような乱数を発生させる関数を使ってサイコロのモデルをプログラミングしてみる。  \n",
    "　整数で発生させる乱数は randint() 関数で提供されている。"
   ]
  },
  {
   "cell_type": "code",
   "execution_count": 13,
   "metadata": {},
   "outputs": [
    {
     "name": "stdout",
     "output_type": "stream",
     "text": [
      "[6 3 6 4 1 6 4 3 5 4 6 5 5 5 2 6 4 3 5 6 4 6 4 5 6 2 6 6 6 1 6 4 4 2 6 4 1\n",
      " 4 5 4 4 6 4 5 1 5 5 4 3 1 2 4 2 5 6 2 4 5 4 4 6 3 3 1 6 1 1 1 5 2 3 6 5 6\n",
      " 1 3 1 2 4 3 1 1 4 3 5 2 4 1 4 2 6 1 6 2 2 2 2 6 2 1]\n",
      " 出現数 : [16, 15, 10, 22, 15, 22]\n"
     ]
    }
   ],
   "source": [
    "### 図表 8　サイコロのプログラム\n",
    "import numpy as np # 整数をカウントするための関数呼び出し\n",
    "import numpy.random as rd # 乱数を発生させる関数の呼び出し\n",
    "saikoro = rd.randint(1, 6+1, 100) # サイコロを 100 回振る\n",
    "print(saikoro) # 乱数の値を表示\n",
    "deme = [ ] # 出目の数を数える配列\n",
    "for i in range(6):\n",
    " deme.append(np.count_nonzero(saikoro==i+1)) # 出現回数を数えて配列に追加\n",
    "print(\" 出現数 :\",deme) # 乱数の値を表示"
   ]
  },
  {
   "cell_type": "markdown",
   "metadata": {},
   "source": [
    "３行目では，1 以上，6+1 未満の乱数を発生し，小数点以下を切り捨てて１から６の整数を得ている。実行結果は次のようになる（数えた数値は毎回異なる）"
   ]
  },
  {
   "cell_type": "markdown",
   "metadata": {},
   "source": [
    "１から６の目の出現数を度数分布（棒グラフ）に表現するためのプログラムは次のようになる。"
   ]
  },
  {
   "cell_type": "code",
   "execution_count": 14,
   "metadata": {},
   "outputs": [
    {
     "data": {
      "image/png": "[encoded data removed]",
      "text/plain": [
       "<Figure size 432x288 with 1 Axes>"
      ]
     },
     "metadata": {
      "needs_background": "light"
     },
     "output_type": "display_data"
    }
   ],
   "source": [
    "### 図表 10　度数分布（棒グラフ）表現のプログラム\n",
    "import numpy as np # 整数をカウントするための関数呼び出し\n",
    "import numpy.random as rd # 乱数を発生させる関数の呼び出し\n",
    "import matplotlib.pyplot as plt # グラフプロットの呼び出し\n",
    "saikoro = rd.randint(1, 6+1, 100) # サイコロを 100 回振る\n",
    "deme = [ ] # 出目の数を数える配列\n",
    "for i in range(6):\n",
    " deme.append(np.count_nonzero(saikoro==i+1)) # 数を数えて配列に追加\n",
    "left = [1, 2, 3, 4, 5, 6] # グラフの左方向の値指定用\n",
    "plt.title(\"SAIKORO SIMULATION\") # グラフのタイトル\n",
    "plt.xlabel(\"ME\") #X 軸のラベル\n",
    "plt.ylabel(\"KAISUU\") #Y 軸のラベル\n",
    "plt.bar(left, deme, align=\"center\") # グラフをプロット\n",
    "plt.show() "
   ]
  },
  {
   "cell_type": "markdown",
   "metadata": {},
   "source": [
    "　確率モデルを使ったシミュレーション手法に，モンテカルロ法がある。モンテカルロ法の特徴は対象のモデルに乱数を大量に生成して入力し，近似解を得ようとする手法である。\n",
    "　この方法を使って，円周率を求めてみる。 \n",
    "　平面の第１象限部分の X 方向に１，Y 方向に１の長さをもつ正方形内に，ランダムに点を打つことを考える。  \n",
    "ランダムに打った点のうち，半径１，中心座標（０, ０）の単位円の方程式「$r*r = x*x + y*y$」の第１象限部分の範囲に含まれた点の数と，全ての点の数との割合は，点の数が多ければ多いほど，円の第 1 象限部分の面積（π\n",
    "／４）に近づいてくるはずである。（確率的に近づいてくる。）  \n",
    "このような事に気が付けば，円周率を求めるプログラムを次のように書くことができる。"
   ]
  },
  {
   "cell_type": "code",
   "execution_count": 15,
   "metadata": {},
   "outputs": [
    {
     "name": "stdout",
     "output_type": "stream",
     "text": [
      " 円周率 : 3.124\n"
     ]
    }
   ],
   "source": [
    "### 図表 12　 円周率を求めるプログラム\n",
    "import numpy.random as rd # 乱数を発生させる関数の呼び出し\n",
    "totalcount = 1000 # ランダムに打つ点の総数\n",
    "incount = 0 # 円に入った点の数\n",
    "for i in range(totalcount):\n",
    " x = rd.random() #0-1 の範囲の値\n",
    " y = rd.random() #0-1 の範囲の値\n",
    " if x**2 + y**2 < 1.0: # 単位円の中に入ったら\n",
    "  incount += 1 # 入ったカウンターに１を加える\n",
    "print(\" 円周率 :\", incount * 4.0 / totalcount) # 求まった円周率"
   ]
  },
  {
   "cell_type": "markdown",
   "metadata": {},
   "source": [
    "　このプログラムを何度か実行してみると，毎回結果が異なることがわかる。また，点の総数を増やすほど，結\n",
    "果が円周率に近づくことも分かる。  \n",
    "　点の様子がわかるよう，円の中に入った点と円の外だった点の色を変えて散布図を作成するプログラムを以下に示す。図表 13 の 13 行目の実行結果は，図表 14 と別の Window に表示される場合もある。"
   ]
  },
  {
   "cell_type": "code",
   "execution_count": 16,
   "metadata": {},
   "outputs": [
    {
     "name": "stdout",
     "output_type": "stream",
     "text": [
      " 円周率 : 3.212\n"
     ]
    },
    {
     "data": {
      "image/png": "[encoded data removed]",
      "text/plain": [
       "<Figure size 432x288 with 1 Axes>"
      ]
     },
     "metadata": {
      "needs_background": "light"
     },
     "output_type": "display_data"
    }
   ],
   "source": [
    "### 図表 13　散布図を作成するプログラム\n",
    "\n",
    "%matplotlib inline\n",
    "import numpy.random as rd # 乱数を発生させる関数の呼び出し\n",
    "import matplotlib.pyplot as plt # グラフプロットの呼び出し\n",
    "totalcount = 2000 # ランダムに打つ点の総数\n",
    "incount = 0 # 円に入った点の数\n",
    "for i in range(totalcount):\n",
    " x = rd.random() #0-1 の範囲の値\n",
    " y = rd.random() #0-1 の範囲の値\n",
    " if x**2 + y**2 < 1.0: # 単位円の中に入ったら\n",
    "  incount += 1 # 入ったカウンターに１を加える\n",
    "  plt.scatter(x, y, c=\"red\") # 赤色でプロット\n",
    " else:\n",
    "  plt.scatter(x, y, c=\"blue\") # 青色でプロット\n",
    "print(\" 円周率 :\", incount * 4.0 / totalcount) # 求まった円周率\n",
    "plt.title(\"Monte Carlo method\") # グラフのタイトル\n",
    "plt.show()"
   ]
  },
  {
   "cell_type": "markdown",
   "metadata": {},
   "source": [
    "# 自然現象のモデル化とシミュレーション "
   ]
  },
  {
   "cell_type": "markdown",
   "metadata": {},
   "source": [
    "1. 物体の放物運動のモデル化\n",
    "\n",
    "　物体の放物運動をモデル化し，初速度と投げ上げる角度によって，物体がどのような軌跡を描いて飛んでいくのか，遠くに飛ばすためにはどのような角度で投げるとよいのかという問いの答えを導く。ここでは，単純化のために，空気抵抗を省いてモデル化する。  \n",
    "　物体の移動する軌跡は物体の水平（X）方向と鉛直（Y）方向の移動に分けて考え表現することとし，垂直方向には重力加速度を受ける。  \n",
    "　ここでは，三角関数は速度を縦と横に分けて考えるために用い，運動を表す式では，水平方向は一定の速度，鉛直方向は，一定の割合で下向きに速度が増えていくと考えてモデル化している。自然現象を表すためには，数学や物理の知識が必要なことも生徒に伝えるようにする。"
   ]
  },
  {
   "cell_type": "markdown",
   "metadata": {},
   "source": [
    "#### 水平方向\n",
    "\n",
    "水平方向は摩擦を受けない条件から等速運動であり，任意の時点での加速度は投げ上げた時の初速度と等しい。\n",
    "```\n",
    "　　　微小時間後の位置　＝　現在の位置　＋　現在の速度　×　時間間隔\n",
    "　　　現在の速度　＝　初速度\n",
    "　　　また，物体を投げ上げる角度と初速度から，水平方向の初速度は，\n",
    "　　　水平方向の初速度　＝　初速度　×　ｃｏｓ（投げ上げる角度）\n",
    "```\n",
    "　　　である。"
   ]
  },
  {
   "cell_type": "markdown",
   "metadata": {},
   "source": [
    "#### 鉛直方向\n",
    "\n",
    "鉛直方向は重力加速度によって速度が変化していく。任意の時点の速度に対し，微小時間後の速度は重力加速度の影響を受けて減少しているため，この間の速度の平均（平均速度）を用いて算出することとする。\n",
    "```\n",
    "　　　微小時間後の位置　＝　現在の位置　＋　平均速度　×　時間間隔\n",
    "　　　平均速度　＝　（現在の速度　＋　微小時間後の速度）／２\n",
    "　　　微小時間後の速度　＝　現在の速度　－　重力加速度　×　時間間隔\n",
    "　　　また，\n",
    "　　　鉛直方向の初速度　＝　初速度　×　ｓｉｎ（投げ上げる角度）\n",
    "```\n",
    "　　　である。"
   ]
  },
  {
   "cell_type": "markdown",
   "metadata": {},
   "source": [
    "2. 物体の放物運動のプログラムによるシミュレーション\n",
    "\n",
    "　作成した数式モデルをプログラムで記述して実行してみる。さらに，条件を変えながらシミュレーションを繰り返し，問題解決に役立てる事を理解する。  \n",
    "　プログラム中に用いる変数と諸条件の対応をわかりやすくするためにも，変数表を作成しておくとよい。\n",
    "\n",
    "\n",
    "|**変数名**|**意味**|**変数名**|**意味**|\n",
    "|---|---|---|---|\n",
    "|dt|時間間隔|v0|初速度|\n",
    "|x|水平位置|vx|水平速度|\n",
    "|y|鉛直位置|vy|鉛直速度|\n",
    "|g|重力加速度|angle|投げ上げ角度|\n",
    "\n",
    "さらにこの数式モデルのシミュレーション結果をわかりやすく評価するため，グラフで表示する。"
   ]
  },
  {
   "cell_type": "markdown",
   "metadata": {},
   "source": [
    "#### 弧度法（ラジアン）\n",
    "\n",
    "　コンピュータにおける算術演算において，三角関数の引数となる角度は弧度法（ラジアン）である。ラジアンとは，円（扇型）の半径の長さと等しい弧の長さとなる中心角を１とする単位で，０度＝０ラジアン，90 度＝π／２ラジアン，180 度はπラジアン，360 度＝２πラジアンとなる。  \n",
    "　角度からラジアンへの変換は角度にπ／ 180 を掛ければよい。"
   ]
  },
  {
   "cell_type": "code",
   "execution_count": 17,
   "metadata": {},
   "outputs": [
    {
     "data": {
      "image/png": "[encoded data removed]",
      "text/plain": [
       "<Figure size 432x288 with 1 Axes>"
      ]
     },
     "metadata": {
      "needs_background": "light"
     },
     "output_type": "display_data"
    }
   ],
   "source": [
    "### 図表 2　放物運動のプログラム\n",
    "import math as math # 数値計算ライブラリ\n",
    "import matplotlib.pyplot as plt # グラフ描画ライブラリ\n",
    "dt = 0.01 # 微小時間 ( 時間間隔 )\n",
    "v0 = 30 # 初速度\n",
    "g = 9.8 # 重力加速度\n",
    "x = [0] # 水平位置の初期値 0\n",
    "y = [0] # 鉛直位置の初期値は 0\n",
    "angle = 45.0 * math.pi / 180.0 # 投げ上げ角度\n",
    "vx = [v0*math.cos(angle)] # 水平方向の初速度\n",
    "vy = [v0*math.sin(angle)] # 鉛直方向の初速度\n",
    "for i in range(1000):\n",
    " vx.append(vx[i]) # 微小時間後の水平方向の速度\n",
    " vy.append(vy[i]-g*dt) # 微小時間後の鉛直方向の速度\n",
    " x.append(x[i]+vx[i]*dt) # 微小時間後の水平位置\n",
    " y.append(y[i]+(vy[i]+vy[i+1])/2.0*dt) # 微小時間後の鉛直位置\n",
    " if y[i] < 0 : # もし鉛直位置が 0 を下回ったら\n",
    "   break # ループ中断\n",
    "plt.plot(x,y) # 位置の配列をプロット\n",
    "plt.title(\"parabollic motion\") # グラフのタイトル\n",
    "plt.xlabel(\"distance\") #x 軸ラベル\n",
    "plt.ylabel(\"height\") #y 軸ラベル\n",
    "plt.show()"
   ]
  },
  {
   "cell_type": "markdown",
   "metadata": {},
   "source": [
    "放物運動のシミュレーションプログラムの変数を変えながら，同一ファイル内で複数回実行すれば，次のように結果の比較もできる。"
   ]
  },
  {
   "cell_type": "markdown",
   "metadata": {},
   "source": [
    "3. 生命体の増加シミュレーション\n",
    "\n",
    "　自然界における生物の個体数は，ある一定の環境内で一気に繁殖することがよく知られている。  \n",
    "　おおむね，その環境は限られた範囲内であり，その範囲内に生存しうる個体数の上限をここでは環境収容力と呼ぶ。単位時間あたりに個体数が増加する数は，個体数×増加率で求めることができ，個体数が多くなればなるほど増加数が増える。  \n",
    "　また，単位時間当たりに個体が減少する数は，個体数×減少率で示すことができ，増加数同様に個体数の数に比例して減少する。  \n",
    "　一方，環境収容力と個体数の増加は個体の減少に強く働くこととなるため，ここでは，\n",
    "　$$減少率　＝　（現在の個体数／環境収容力）×増加率$$\n",
    "と定義する。この定義によって，個体数は環境収容力以上の数に増えると増加より減少数の方が増え，一方環境収容力より個体数が少なければ増加数が増える。  \n",
    "　以上の諸量について次のように設定し，プログラミングしてみる。\n",
    "\n",
    "|**変数名**|**意味**|\n",
    "|---|---|\n",
    "|number|個体数|\n",
    "|zoukasuu|増加数|\n",
    "|zouka|増加率|\n",
    "|gensyousuu|減少数|\n",
    "|capacity|環境収容力|\n",
    "\n",
    "このプログラムを実行すると，次のような結果が得られる。"
   ]
  },
  {
   "cell_type": "code",
   "execution_count": 18,
   "metadata": {},
   "outputs": [
    {
     "data": {
      "image/png": "[encoded data removed]",
      "text/plain": [
       "<Figure size 432x288 with 1 Axes>"
      ]
     },
     "metadata": {
      "needs_background": "light"
     },
     "output_type": "display_data"
    }
   ],
   "source": [
    "### 図表 6　個体の増加プログラム\n",
    "import matplotlib.pyplot as plt # グラフ描画ライブラリ\n",
    "zouka = 0.01 # 増加率\n",
    "capacity = 1000 # 環境収容数\n",
    "n = [10] # 最初の個体数\n",
    "for i in range(1000):\n",
    " zoukasuu = n[i]*zouka # 増加数\n",
    " gensyousuu = n[i]*(n[i]/capacity)*zouka # 減少数\n",
    " n.append(n[i]+(zoukasuu - gensyousuu)) # 個体数\n",
    "plt.plot(n) # グラフにプロット\n",
    "plt.title(\"number of life\") # グラフのタイトル\n",
    "plt.xlabel(\"time\") #x 軸のラベル\n",
    "plt.ylabel(\"number\") #y 軸のラベル\n",
    "plt.show()"
   ]
  },
  {
   "cell_type": "markdown",
   "metadata": {},
   "source": [
    "　プログラムでは単位時間あたりの増加率を１％としているが，増加率を引き上げれば生物の繁殖速度を実感できる。\n",
    "\n",
    "　個体数が制約条件の中で成長するこのような曲線をロジスティック曲線と言い，環境収容力に収束する S 字曲線として有名である"
   ]
  },
  {
   "cell_type": "markdown",
   "metadata": {},
   "source": [
    "4. ランダムウォークのシミュレーション\n",
    "\n",
    "　ブラウン運動や株価の変動など，不確実な現象のシミュレーションとして用いられるモデルに，ランダムウォークがある。  \n",
    "　ここでは，乱数を使ったシミュレーションとしてランダムウォークを取り上げ，複雑な物の動きについて，視覚的に確認できるようなシミュレーションを行ってみる。  \n",
    "ある物体が次の時間変化後にどの方向に行くか予測できない状況で，その動く方向が一様な乱数に従う場合，現在位置（ｘ 0，ｙ 0）と次の時間変化後の位置（x, y）との関係は，０～１の乱数を発生させる関数 random() を用いると，\n",
    "$$x = x0 + random( ) – 0.5$$\n",
    "$$y = y0 + random( ) – 0.5$$\n",
    "と表すことができる。この処理を 1000 回繰り返してグラフに表示してみる。\n",
    "\n",
    "このプログラムを実行すると，実行する度に異なる次のようなグラフ表示がされる。"
   ]
  },
  {
   "cell_type": "code",
   "execution_count": 19,
   "metadata": {},
   "outputs": [
    {
     "data": {
      "image/png": "[encoded data removed]",
      "text/plain": [
       "<Figure size 432x288 with 1 Axes>"
      ]
     },
     "metadata": {
      "needs_background": "light"
     },
     "output_type": "display_data"
    }
   ],
   "source": [
    "### 図表 8　プログラム\n",
    "### 図表 9　実行結果\n",
    "import matplotlib.pyplot as plt # グラフ描画ライブラリ\n",
    "import numpy.random as rd # 乱数のためのライブラリ\n",
    "x=[0] #X の初期値を 0 にする\n",
    "y=[0] #Y の初期値を 0 にする\n",
    "for i in range(1000):\n",
    " x.append(x[i]+rd.random() - 0.5) #X 方向\n",
    " y.append(y[i]+rd.random() - 0.5) #Y 方向\n",
    "trace = [x, y] #XY 平面状の物体の座標を trace という名前の配列に代入\n",
    "plt.plot(*trace) # 配列要素のグラフ描画\n",
    "plt.axis(\"equal\") # グラフの縦横比を等しく\n",
    "plt.title(\"random walk\") # グラフのタイトルをつける\n",
    "plt.show()"
   ]
  },
  {
   "cell_type": "markdown",
   "metadata": {},
   "source": [
    "　ランダムウォークは，でたらめに行動する生物や，人間の行動などを分析するため，様々な分野のシミュレーションの基礎として利用されており，近年では機械学習によく用いられている。"
   ]
  },
  {
   "cell_type": "code",
   "execution_count": null,
   "metadata": {},
   "outputs": [],
   "source": []
  }
 ],
 "metadata": {
  "kernelspec": {
   "display_name": "Python 3",
   "language": "python",
   "name": "python3"
  },
  "language_info": {
   "codemirror_mode": {
    "name": "ipython",
    "version": 3
   },
   "file_extension": ".py",
   "mimetype": "text/x-python",
   "name": "python",
   "nbconvert_exporter": "python",
   "pygments_lexer": "ipython3",
   "version": "3.7.4"
  }
 },
 "nbformat": 4,
 "nbformat_minor": 2
}
